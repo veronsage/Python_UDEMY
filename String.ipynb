{
 "cells": [
  {
   "cell_type": "code",
   "execution_count": 1,
   "id": "ee2330a9",
   "metadata": {},
   "outputs": [],
   "source": [
    "# 1+1"
   ]
  },
  {
   "cell_type": "code",
   "execution_count": 2,
   "id": "2dc59b25",
   "metadata": {},
   "outputs": [
    {
     "data": {
      "text/plain": [
       "'hello'"
      ]
     },
     "execution_count": 2,
     "metadata": {},
     "output_type": "execute_result"
    }
   ],
   "source": [
    "'hello'"
   ]
  },
  {
   "cell_type": "code",
   "execution_count": 3,
   "id": "8cd16ced",
   "metadata": {},
   "outputs": [
    {
     "data": {
      "text/plain": [
       "'hello'"
      ]
     },
     "execution_count": 3,
     "metadata": {},
     "output_type": "execute_result"
    }
   ],
   "source": [
    "\"hello\""
   ]
  },
  {
   "cell_type": "code",
   "execution_count": 4,
   "id": "c9498139",
   "metadata": {},
   "outputs": [
    {
     "ename": "SyntaxError",
     "evalue": "invalid syntax (3590410913.py, line 1)",
     "output_type": "error",
     "traceback": [
      "\u001b[1;36m  File \u001b[1;32m\"C:\\Users\\user\\AppData\\Local\\Temp\\ipykernel_1640\\3590410913.py\"\u001b[1;36m, line \u001b[1;32m1\u001b[0m\n\u001b[1;33m    'I'm not a spy!'\u001b[0m\n\u001b[1;37m       ^\u001b[0m\n\u001b[1;31mSyntaxError\u001b[0m\u001b[1;31m:\u001b[0m invalid syntax\n"
     ]
    }
   ],
   "source": [
    "'I'm not a spy!'"
   ]
  },
  {
   "cell_type": "code",
   "execution_count": 5,
   "id": "49ba9db7",
   "metadata": {},
   "outputs": [
    {
     "data": {
      "text/plain": [
       "\" I'm not a spy! \""
      ]
     },
     "execution_count": 5,
     "metadata": {},
     "output_type": "execute_result"
    }
   ],
   "source": [
    "\" I'm not a spy! \""
   ]
  },
  {
   "cell_type": "code",
   "execution_count": 6,
   "id": "b4d29373",
   "metadata": {},
   "outputs": [
    {
     "data": {
      "text/plain": [
       "'one'"
      ]
     },
     "execution_count": 6,
     "metadata": {},
     "output_type": "execute_result"
    }
   ],
   "source": [
    "'one'"
   ]
  },
  {
   "cell_type": "code",
   "execution_count": 7,
   "id": "f6a2319c",
   "metadata": {},
   "outputs": [
    {
     "data": {
      "text/plain": [
       "'two'"
      ]
     },
     "execution_count": 7,
     "metadata": {},
     "output_type": "execute_result"
    }
   ],
   "source": [
    "'one'\n",
    "'two'"
   ]
  },
  {
   "cell_type": "code",
   "execution_count": 10,
   "id": "5758df1b",
   "metadata": {},
   "outputs": [
    {
     "name": "stdout",
     "output_type": "stream",
     "text": [
      "one\n",
      "two\n"
     ]
    }
   ],
   "source": [
    "print('one')\n",
    "print('two')"
   ]
  },
  {
   "cell_type": "code",
   "execution_count": 11,
   "id": "43e21667",
   "metadata": {},
   "outputs": [
    {
     "name": "stdout",
     "output_type": "stream",
     "text": [
      "hello I want this in 2 lines.\n"
     ]
    }
   ],
   "source": [
    "print('hello I want this in 2 lines.')"
   ]
  },
  {
   "cell_type": "code",
   "execution_count": 12,
   "id": "017bf899",
   "metadata": {},
   "outputs": [
    {
     "name": "stdout",
     "output_type": "stream",
     "text": [
      "hello I want \n",
      " this in 2 lines.\n"
     ]
    }
   ],
   "source": [
    "print('hello I want \\n this in 2 lines.')"
   ]
  },
  {
   "cell_type": "code",
   "execution_count": 13,
   "id": "111bff2b",
   "metadata": {},
   "outputs": [
    {
     "name": "stdout",
     "output_type": "stream",
     "text": [
      "hello I want \n",
      "this in 2 lines.\n"
     ]
    }
   ],
   "source": [
    "print('hello I want \\nthis in 2 lines.')"
   ]
  },
  {
   "cell_type": "code",
   "execution_count": 14,
   "id": "739b5c92",
   "metadata": {},
   "outputs": [
    {
     "name": "stdout",
     "output_type": "stream",
     "text": [
      "hello I want \tthis in 2 lines.\n"
     ]
    }
   ],
   "source": [
    "print('hello I want \\tthis in 2 lines.')"
   ]
  },
  {
   "cell_type": "code",
   "execution_count": 15,
   "id": "896b8fc3",
   "metadata": {},
   "outputs": [],
   "source": [
    "word = 'hello'"
   ]
  },
  {
   "cell_type": "code",
   "execution_count": 16,
   "id": "7427ccc8",
   "metadata": {},
   "outputs": [
    {
     "data": {
      "text/plain": [
       "'h'"
      ]
     },
     "execution_count": 16,
     "metadata": {},
     "output_type": "execute_result"
    }
   ],
   "source": [
    "word[0]"
   ]
  },
  {
   "cell_type": "code",
   "execution_count": 17,
   "id": "588f307b",
   "metadata": {},
   "outputs": [
    {
     "data": {
      "text/plain": [
       "'o'"
      ]
     },
     "execution_count": 17,
     "metadata": {},
     "output_type": "execute_result"
    }
   ],
   "source": [
    "word[4]"
   ]
  },
  {
   "cell_type": "code",
   "execution_count": 18,
   "id": "57cec012",
   "metadata": {},
   "outputs": [
    {
     "data": {
      "text/plain": [
       "'o'"
      ]
     },
     "execution_count": 18,
     "metadata": {},
     "output_type": "execute_result"
    }
   ],
   "source": [
    "word[-1]"
   ]
  },
  {
   "cell_type": "code",
   "execution_count": 19,
   "id": "c974ef3e",
   "metadata": {},
   "outputs": [],
   "source": [
    "alpha = 'abcdef'"
   ]
  },
  {
   "cell_type": "code",
   "execution_count": 20,
   "id": "2fd085ec",
   "metadata": {},
   "outputs": [
    {
     "data": {
      "text/plain": [
       "'abc'"
      ]
     },
     "execution_count": 20,
     "metadata": {},
     "output_type": "execute_result"
    }
   ],
   "source": [
    "alpha[0:3]"
   ]
  },
  {
   "cell_type": "code",
   "execution_count": 21,
   "id": "b50935a7",
   "metadata": {},
   "outputs": [
    {
     "data": {
      "text/plain": [
       "'cd'"
      ]
     },
     "execution_count": 21,
     "metadata": {},
     "output_type": "execute_result"
    }
   ],
   "source": [
    "alpha[2:4]"
   ]
  },
  {
   "cell_type": "code",
   "execution_count": 22,
   "id": "b411006d",
   "metadata": {},
   "outputs": [
    {
     "data": {
      "text/plain": [
       "'cdef'"
      ]
     },
     "execution_count": 22,
     "metadata": {},
     "output_type": "execute_result"
    }
   ],
   "source": [
    "alpha[2:]"
   ]
  },
  {
   "cell_type": "code",
   "execution_count": 23,
   "id": "5c07f819",
   "metadata": {},
   "outputs": [
    {
     "data": {
      "text/plain": [
       "'ab'"
      ]
     },
     "execution_count": 23,
     "metadata": {},
     "output_type": "execute_result"
    }
   ],
   "source": [
    "alpha[:2]"
   ]
  },
  {
   "cell_type": "code",
   "execution_count": 24,
   "id": "8b2a8a1b",
   "metadata": {},
   "outputs": [
    {
     "data": {
      "text/plain": [
       "'abcdef'"
      ]
     },
     "execution_count": 24,
     "metadata": {},
     "output_type": "execute_result"
    }
   ],
   "source": [
    "alpha"
   ]
  },
  {
   "cell_type": "code",
   "execution_count": 25,
   "id": "6970a9af",
   "metadata": {},
   "outputs": [
    {
     "data": {
      "text/plain": [
       "'ace'"
      ]
     },
     "execution_count": 25,
     "metadata": {},
     "output_type": "execute_result"
    }
   ],
   "source": [
    "alpha[0:6:2]"
   ]
  },
  {
   "cell_type": "code",
   "execution_count": 26,
   "id": "8fa86114",
   "metadata": {},
   "outputs": [],
   "source": [
    "basic = 'hello world'"
   ]
  },
  {
   "cell_type": "code",
   "execution_count": 27,
   "id": "89729f77",
   "metadata": {},
   "outputs": [
    {
     "data": {
      "text/plain": [
       "'hello world'"
      ]
     },
     "execution_count": 27,
     "metadata": {},
     "output_type": "execute_result"
    }
   ],
   "source": [
    "basic"
   ]
  },
  {
   "cell_type": "code",
   "execution_count": 28,
   "id": "8e7270e6",
   "metadata": {},
   "outputs": [
    {
     "data": {
      "text/plain": [
       "'HELLO WORLD'"
      ]
     },
     "execution_count": 28,
     "metadata": {},
     "output_type": "execute_result"
    }
   ],
   "source": [
    "basic.upper()"
   ]
  },
  {
   "cell_type": "code",
   "execution_count": 29,
   "id": "518bc1cc",
   "metadata": {},
   "outputs": [
    {
     "data": {
      "text/plain": [
       "'hello world'"
      ]
     },
     "execution_count": 29,
     "metadata": {},
     "output_type": "execute_result"
    }
   ],
   "source": [
    "basic"
   ]
  },
  {
   "cell_type": "code",
   "execution_count": 30,
   "id": "09b073ec",
   "metadata": {},
   "outputs": [],
   "source": [
    "var = basic.upper()"
   ]
  },
  {
   "cell_type": "code",
   "execution_count": 31,
   "id": "3ce365a1",
   "metadata": {},
   "outputs": [
    {
     "data": {
      "text/plain": [
       "'HELLO WORLD'"
      ]
     },
     "execution_count": 31,
     "metadata": {},
     "output_type": "execute_result"
    }
   ],
   "source": [
    "var"
   ]
  },
  {
   "cell_type": "code",
   "execution_count": 32,
   "id": "6a03a3fe",
   "metadata": {},
   "outputs": [
    {
     "data": {
      "text/plain": [
       "'hello world'"
      ]
     },
     "execution_count": 32,
     "metadata": {},
     "output_type": "execute_result"
    }
   ],
   "source": [
    "basic"
   ]
  },
  {
   "cell_type": "code",
   "execution_count": 33,
   "id": "c8fdb0e1",
   "metadata": {},
   "outputs": [
    {
     "data": {
      "text/plain": [
       "'hello world'"
      ]
     },
     "execution_count": 33,
     "metadata": {},
     "output_type": "execute_result"
    }
   ],
   "source": [
    "basic.lower()"
   ]
  },
  {
   "cell_type": "code",
   "execution_count": 34,
   "id": "bd0f5f38",
   "metadata": {},
   "outputs": [
    {
     "data": {
      "text/plain": [
       "['hello', 'world']"
      ]
     },
     "execution_count": 34,
     "metadata": {},
     "output_type": "execute_result"
    }
   ],
   "source": [
    "basic.split()"
   ]
  },
  {
   "cell_type": "code",
   "execution_count": 35,
   "id": "e871c618",
   "metadata": {},
   "outputs": [
    {
     "data": {
      "text/plain": [
       "['hell', ' w', 'rld']"
      ]
     },
     "execution_count": 35,
     "metadata": {},
     "output_type": "execute_result"
    }
   ],
   "source": [
    "basic.split('o')"
   ]
  },
  {
   "cell_type": "code",
   "execution_count": 36,
   "id": "7b912bea",
   "metadata": {},
   "outputs": [
    {
     "data": {
      "text/plain": [
       "<function str.split(sep=None, maxsplit=-1)>"
      ]
     },
     "execution_count": 36,
     "metadata": {},
     "output_type": "execute_result"
    }
   ],
   "source": [
    "basic.split"
   ]
  },
  {
   "cell_type": "code",
   "execution_count": 37,
   "id": "06cb5709",
   "metadata": {},
   "outputs": [],
   "source": [
    "user_name = 'Recruit'"
   ]
  },
  {
   "cell_type": "code",
   "execution_count": 38,
   "id": "ab4f613f",
   "metadata": {},
   "outputs": [],
   "source": [
    "action = 'run'"
   ]
  },
  {
   "cell_type": "code",
   "execution_count": 39,
   "id": "5b8184d9",
   "metadata": {},
   "outputs": [
    {
     "name": "stdout",
     "output_type": "stream",
     "text": [
      "Th user_name action\n"
     ]
    }
   ],
   "source": [
    "print('Th user_name action')"
   ]
  },
  {
   "cell_type": "code",
   "execution_count": 40,
   "id": "74c16bf7",
   "metadata": {},
   "outputs": [
    {
     "name": "stdout",
     "output_type": "stream",
     "text": [
      "The Recruit needs to run\n"
     ]
    }
   ],
   "source": [
    "print('The {} needs to {}'.format(user_name, action))"
   ]
  },
  {
   "cell_type": "code",
   "execution_count": 41,
   "id": "3207260d",
   "metadata": {},
   "outputs": [
    {
     "name": "stdout",
     "output_type": "stream",
     "text": [
      "The run needs to Recruit\n"
     ]
    }
   ],
   "source": [
    "print('The {b} needs to {a}'.format(a = user_name, b = action))"
   ]
  },
  {
   "cell_type": "code",
   "execution_count": 42,
   "id": "089b604f",
   "metadata": {},
   "outputs": [],
   "source": [
    "num = 123.6789"
   ]
  },
  {
   "cell_type": "code",
   "execution_count": 43,
   "id": "756d8f36",
   "metadata": {},
   "outputs": [
    {
     "name": "stdout",
     "output_type": "stream",
     "text": [
      "The code is 123.6789\n"
     ]
    }
   ],
   "source": [
    "print('The code is {}'.format(num))"
   ]
  },
  {
   "cell_type": "code",
   "execution_count": 44,
   "id": "6979f44f",
   "metadata": {},
   "outputs": [
    {
     "name": "stdout",
     "output_type": "stream",
     "text": [
      "The code is 123.7\n"
     ]
    }
   ],
   "source": [
    "print('The code is {:.1f}'.format(num))"
   ]
  },
  {
   "cell_type": "code",
   "execution_count": 45,
   "id": "169d0a5d",
   "metadata": {},
   "outputs": [
    {
     "name": "stdout",
     "output_type": "stream",
     "text": [
      "The code is 123.68\n"
     ]
    }
   ],
   "source": [
    "print('The code is {:.2f}'.format(num))"
   ]
  },
  {
   "cell_type": "code",
   "execution_count": 46,
   "id": "4b4d779f",
   "metadata": {},
   "outputs": [
    {
     "name": "stdout",
     "output_type": "stream",
     "text": [
      "The code is 123.679\n"
     ]
    }
   ],
   "source": [
    "print('The code is {:.3f}'.format(num))"
   ]
  },
  {
   "cell_type": "code",
   "execution_count": 47,
   "id": "1604a549",
   "metadata": {},
   "outputs": [
    {
     "name": "stdout",
     "output_type": "stream",
     "text": [
      "The code is 124\n"
     ]
    }
   ],
   "source": [
    "print('The code is {:.0f}'.format(num))"
   ]
  },
  {
   "cell_type": "code",
   "execution_count": null,
   "id": "7bf43898",
   "metadata": {},
   "outputs": [],
   "source": []
  }
 ],
 "metadata": {
  "kernelspec": {
   "display_name": "Python 3 (ipykernel)",
   "language": "python",
   "name": "python3"
  },
  "language_info": {
   "codemirror_mode": {
    "name": "ipython",
    "version": 3
   },
   "file_extension": ".py",
   "mimetype": "text/x-python",
   "name": "python",
   "nbconvert_exporter": "python",
   "pygments_lexer": "ipython3",
   "version": "3.9.13"
  }
 },
 "nbformat": 4,
 "nbformat_minor": 5
}
