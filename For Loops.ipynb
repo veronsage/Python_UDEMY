{
 "cells": [
  {
   "cell_type": "code",
   "execution_count": 1,
   "id": "53025220",
   "metadata": {},
   "outputs": [],
   "source": [
    "mylist = [1,2,3,4]"
   ]
  },
  {
   "cell_type": "code",
   "execution_count": 3,
   "id": "9acd8cff",
   "metadata": {},
   "outputs": [
    {
     "name": "stdout",
     "output_type": "stream",
     "text": [
      "1 2 3 4 "
     ]
    }
   ],
   "source": [
    "for num in mylist:\n",
    "    print(num,end = ' ')"
   ]
  },
  {
   "cell_type": "code",
   "execution_count": 4,
   "id": "fc2c5d8a",
   "metadata": {},
   "outputs": [
    {
     "name": "stdout",
     "output_type": "stream",
     "text": [
      "hello\n",
      "hello\n",
      "hello\n",
      "hello\n"
     ]
    }
   ],
   "source": [
    "for num in mylist:\n",
    "    print('hello')"
   ]
  },
  {
   "cell_type": "code",
   "execution_count": 6,
   "id": "80850cc3",
   "metadata": {},
   "outputs": [
    {
     "name": "stdout",
     "output_type": "stream",
     "text": [
      "t\n",
      "h\n",
      "i\n",
      "s\n",
      " \n",
      "i\n",
      "s\n",
      " \n",
      "a\n",
      " \n",
      "s\n",
      "t\n",
      "r\n",
      "i\n",
      "n\n",
      "g\n"
     ]
    }
   ],
   "source": [
    "for letter in 'this is a string':\n",
    "    print(letter)"
   ]
  },
  {
   "cell_type": "code",
   "execution_count": 7,
   "id": "1b16948c",
   "metadata": {},
   "outputs": [],
   "source": [
    "tup = (1,2,3,4)"
   ]
  },
  {
   "cell_type": "code",
   "execution_count": 8,
   "id": "6a569bb4",
   "metadata": {},
   "outputs": [
    {
     "name": "stdout",
     "output_type": "stream",
     "text": [
      "1\n",
      "2\n",
      "3\n",
      "4\n"
     ]
    }
   ],
   "source": [
    "for n in tup:\n",
    "    print(n)"
   ]
  },
  {
   "cell_type": "code",
   "execution_count": 9,
   "id": "d6f84f97",
   "metadata": {},
   "outputs": [],
   "source": [
    "list_of_tuples = [(1,2),(3,4),(5,6),(7,8),(9,10)]"
   ]
  },
  {
   "cell_type": "code",
   "execution_count": 12,
   "id": "bc733f2a",
   "metadata": {},
   "outputs": [
    {
     "name": "stdout",
     "output_type": "stream",
     "text": [
      "1\n",
      "2\n",
      "\n",
      "\n",
      "3\n",
      "4\n",
      "\n",
      "\n",
      "5\n",
      "6\n",
      "\n",
      "\n",
      "7\n",
      "8\n",
      "\n",
      "\n",
      "9\n",
      "10\n",
      "\n",
      "\n"
     ]
    }
   ],
   "source": [
    "for item1, item2 in list_of_tuples:\n",
    "    print(item1)\n",
    "    print(item2)\n",
    "    print('\\n')"
   ]
  },
  {
   "cell_type": "code",
   "execution_count": 13,
   "id": "d35cfdb4",
   "metadata": {},
   "outputs": [
    {
     "name": "stdout",
     "output_type": "stream",
     "text": [
      "1\n",
      "3\n",
      "5\n",
      "7\n",
      "9\n"
     ]
    }
   ],
   "source": [
    "for item1, item2 in list_of_tuples:\n",
    "    print(item1)"
   ]
  },
  {
   "cell_type": "code",
   "execution_count": 14,
   "id": "19736e8a",
   "metadata": {},
   "outputs": [],
   "source": [
    "d = {'a':1, 'b':2, 'c':3}"
   ]
  },
  {
   "cell_type": "code",
   "execution_count": 21,
   "id": "1dce456f",
   "metadata": {},
   "outputs": [
    {
     "name": "stdout",
     "output_type": "stream",
     "text": [
      "1\n",
      "2\n",
      "3\n"
     ]
    }
   ],
   "source": [
    "for k in d:\n",
    "    print(d[k])"
   ]
  },
  {
   "cell_type": "code",
   "execution_count": 23,
   "id": "be24132e",
   "metadata": {},
   "outputs": [
    {
     "name": "stdout",
     "output_type": "stream",
     "text": [
      "c\n",
      "o\n",
      "e\n"
     ]
    }
   ],
   "source": [
    "for letter in 'code':\n",
    "    if letter == 'd':\n",
    "        continue\n",
    "    print(letter)"
   ]
  },
  {
   "cell_type": "code",
   "execution_count": null,
   "id": "41d042b3",
   "metadata": {},
   "outputs": [],
   "source": []
  }
 ],
 "metadata": {
  "kernelspec": {
   "display_name": "Python 3 (ipykernel)",
   "language": "python",
   "name": "python3"
  },
  "language_info": {
   "codemirror_mode": {
    "name": "ipython",
    "version": 3
   },
   "file_extension": ".py",
   "mimetype": "text/x-python",
   "name": "python",
   "nbconvert_exporter": "python",
   "pygments_lexer": "ipython3",
   "version": "3.9.13"
  }
 },
 "nbformat": 4,
 "nbformat_minor": 5
}
