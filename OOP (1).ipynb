{
 "cells": [
  {
   "cell_type": "code",
   "execution_count": 1,
   "id": "75c0307b",
   "metadata": {},
   "outputs": [],
   "source": [
    "mylist = [1,2,3]"
   ]
  },
  {
   "cell_type": "code",
   "execution_count": 2,
   "id": "8b9cdf51",
   "metadata": {},
   "outputs": [],
   "source": [
    "mylist.append(4)"
   ]
  },
  {
   "cell_type": "code",
   "execution_count": 3,
   "id": "3e1769ca",
   "metadata": {},
   "outputs": [
    {
     "data": {
      "text/plain": [
       "1"
      ]
     },
     "execution_count": 3,
     "metadata": {},
     "output_type": "execute_result"
    }
   ],
   "source": [
    "mylist.count(2)"
   ]
  },
  {
   "cell_type": "code",
   "execution_count": 4,
   "id": "beeec4c3",
   "metadata": {},
   "outputs": [
    {
     "data": {
      "text/plain": [
       "[1, 2, 3, 4]"
      ]
     },
     "execution_count": 4,
     "metadata": {},
     "output_type": "execute_result"
    }
   ],
   "source": [
    "mylist"
   ]
  },
  {
   "cell_type": "code",
   "execution_count": 5,
   "id": "d617cffd",
   "metadata": {},
   "outputs": [
    {
     "data": {
      "text/plain": [
       "list"
      ]
     },
     "execution_count": 5,
     "metadata": {},
     "output_type": "execute_result"
    }
   ],
   "source": [
    "type([])"
   ]
  },
  {
   "cell_type": "code",
   "execution_count": 6,
   "id": "237b5f43",
   "metadata": {},
   "outputs": [
    {
     "data": {
      "text/plain": [
       "dict"
      ]
     },
     "execution_count": 6,
     "metadata": {},
     "output_type": "execute_result"
    }
   ],
   "source": [
    "type({})"
   ]
  },
  {
   "cell_type": "code",
   "execution_count": null,
   "id": "aefb6d0e",
   "metadata": {},
   "outputs": [],
   "source": []
  },
  {
   "cell_type": "code",
   "execution_count": 7,
   "id": "15491526",
   "metadata": {},
   "outputs": [],
   "source": [
    "class Sample():\n",
    "    pass"
   ]
  },
  {
   "cell_type": "code",
   "execution_count": 8,
   "id": "628ff967",
   "metadata": {},
   "outputs": [],
   "source": [
    "x = Sample()"
   ]
  },
  {
   "cell_type": "code",
   "execution_count": 9,
   "id": "5e822798",
   "metadata": {},
   "outputs": [
    {
     "data": {
      "text/plain": [
       "__main__.Sample"
      ]
     },
     "execution_count": 9,
     "metadata": {},
     "output_type": "execute_result"
    }
   ],
   "source": [
    "type(x)"
   ]
  },
  {
   "cell_type": "code",
   "execution_count": 5,
   "id": "013d7f1b",
   "metadata": {},
   "outputs": [],
   "source": [
    "class Agent():\n",
    "    \n",
    "    #Class object attribure\n",
    "    planet = 'Earth'\n",
    "    \n",
    "    def __init__(self,real_name,eye_color,height):\n",
    "        self.real_name = real_name\n",
    "        self.eye_color = eye_color\n",
    "        self.height = height"
   ]
  },
  {
   "cell_type": "code",
   "execution_count": 6,
   "id": "f8528984",
   "metadata": {},
   "outputs": [],
   "source": [
    "x = Agent('James Bond', 'green',175)"
   ]
  },
  {
   "cell_type": "code",
   "execution_count": 7,
   "id": "8e6daadf",
   "metadata": {},
   "outputs": [
    {
     "data": {
      "text/plain": [
       "<__main__.Agent at 0x221a115b730>"
      ]
     },
     "execution_count": 7,
     "metadata": {},
     "output_type": "execute_result"
    }
   ],
   "source": [
    "x"
   ]
  },
  {
   "cell_type": "code",
   "execution_count": 8,
   "id": "f8820839",
   "metadata": {},
   "outputs": [
    {
     "data": {
      "text/plain": [
       "'James Bond'"
      ]
     },
     "execution_count": 8,
     "metadata": {},
     "output_type": "execute_result"
    }
   ],
   "source": [
    "x.real_name"
   ]
  },
  {
   "cell_type": "code",
   "execution_count": 9,
   "id": "d33f9ceb",
   "metadata": {},
   "outputs": [
    {
     "data": {
      "text/plain": [
       "'green'"
      ]
     },
     "execution_count": 9,
     "metadata": {},
     "output_type": "execute_result"
    }
   ],
   "source": [
    "x.eye_color"
   ]
  },
  {
   "cell_type": "code",
   "execution_count": 10,
   "id": "919fa90a",
   "metadata": {},
   "outputs": [
    {
     "data": {
      "text/plain": [
       "175"
      ]
     },
     "execution_count": 10,
     "metadata": {},
     "output_type": "execute_result"
    }
   ],
   "source": [
    "x.height"
   ]
  },
  {
   "cell_type": "code",
   "execution_count": 11,
   "id": "2a3ed6df",
   "metadata": {},
   "outputs": [],
   "source": [
    "y = Agent('Sally','blue',160)"
   ]
  },
  {
   "cell_type": "code",
   "execution_count": 12,
   "id": "a1350065",
   "metadata": {},
   "outputs": [
    {
     "data": {
      "text/plain": [
       "'James Bond'"
      ]
     },
     "execution_count": 12,
     "metadata": {},
     "output_type": "execute_result"
    }
   ],
   "source": [
    "x.real_name"
   ]
  },
  {
   "cell_type": "code",
   "execution_count": 13,
   "id": "d782f766",
   "metadata": {},
   "outputs": [
    {
     "data": {
      "text/plain": [
       "'Sally'"
      ]
     },
     "execution_count": 13,
     "metadata": {},
     "output_type": "execute_result"
    }
   ],
   "source": [
    "y.real_name"
   ]
  },
  {
   "cell_type": "code",
   "execution_count": 14,
   "id": "a23d968f",
   "metadata": {},
   "outputs": [
    {
     "data": {
      "text/plain": [
       "'Earth'"
      ]
     },
     "execution_count": 14,
     "metadata": {},
     "output_type": "execute_result"
    }
   ],
   "source": [
    "x.planet"
   ]
  },
  {
   "cell_type": "code",
   "execution_count": 15,
   "id": "af045bab",
   "metadata": {},
   "outputs": [
    {
     "data": {
      "text/plain": [
       "'Earth'"
      ]
     },
     "execution_count": 15,
     "metadata": {},
     "output_type": "execute_result"
    }
   ],
   "source": [
    "y.planet"
   ]
  },
  {
   "cell_type": "code",
   "execution_count": 16,
   "id": "4f7f9798",
   "metadata": {},
   "outputs": [],
   "source": [
    "#Methods"
   ]
  },
  {
   "cell_type": "code",
   "execution_count": 17,
   "id": "6413f525",
   "metadata": {},
   "outputs": [],
   "source": [
    "class Circle():\n",
    "    \n",
    "    pi = 3.14\n",
    "    \n",
    "    def __init__(self,radius=1):\n",
    "        self.radius = radius\n",
    "        \n",
    "    def area(self):\n",
    "        return self.radius * self.radius * Circle.pi\n",
    "    \n",
    "    def perimetr(self):\n",
    "        return 2 * self.radius * Circle.pi\n",
    "    \n",
    "    def report_something(self,name):\n",
    "        return 'Report {}'.format(name)"
   ]
  },
  {
   "cell_type": "code",
   "execution_count": 18,
   "id": "e3649366",
   "metadata": {},
   "outputs": [],
   "source": [
    "mycircle = Circle(3)"
   ]
  },
  {
   "cell_type": "code",
   "execution_count": 19,
   "id": "a75ecf5d",
   "metadata": {},
   "outputs": [
    {
     "data": {
      "text/plain": [
       "3"
      ]
     },
     "execution_count": 19,
     "metadata": {},
     "output_type": "execute_result"
    }
   ],
   "source": [
    "mycircle.radius"
   ]
  },
  {
   "cell_type": "code",
   "execution_count": 20,
   "id": "855fe19d",
   "metadata": {},
   "outputs": [
    {
     "data": {
      "text/plain": [
       "28.26"
      ]
     },
     "execution_count": 20,
     "metadata": {},
     "output_type": "execute_result"
    }
   ],
   "source": [
    "mycircle.area()"
   ]
  },
  {
   "cell_type": "code",
   "execution_count": 21,
   "id": "91b8e4a8",
   "metadata": {},
   "outputs": [
    {
     "data": {
      "text/plain": [
       "18.84"
      ]
     },
     "execution_count": 21,
     "metadata": {},
     "output_type": "execute_result"
    }
   ],
   "source": [
    "mycircle.perimetr()"
   ]
  },
  {
   "cell_type": "code",
   "execution_count": 22,
   "id": "d169faaf",
   "metadata": {},
   "outputs": [
    {
     "data": {
      "text/plain": [
       "'Report John'"
      ]
     },
     "execution_count": 22,
     "metadata": {},
     "output_type": "execute_result"
    }
   ],
   "source": [
    "mycircle.report_something('John')"
   ]
  },
  {
   "cell_type": "code",
   "execution_count": 23,
   "id": "b2b3de25",
   "metadata": {},
   "outputs": [],
   "source": [
    "#inharitance"
   ]
  },
  {
   "cell_type": "code",
   "execution_count": 24,
   "id": "5b34cbc4",
   "metadata": {},
   "outputs": [],
   "source": [
    "class Person():\n",
    "    \n",
    "    def __init__(self,first_name,last_name):\n",
    "        self.first_name = first_name\n",
    "        self.last_name = last_name\n",
    "        \n",
    "    def report(self):\n",
    "        print('I am {} {}'.format(self.first_name, self.last_name))\n",
    "        \n",
    "    def hello(self):\n",
    "        print('hello!')"
   ]
  },
  {
   "cell_type": "code",
   "execution_count": 25,
   "id": "963c9a4d",
   "metadata": {},
   "outputs": [],
   "source": [
    "p = Person('James','Bond')"
   ]
  },
  {
   "cell_type": "code",
   "execution_count": 26,
   "id": "32df237b",
   "metadata": {},
   "outputs": [
    {
     "name": "stdout",
     "output_type": "stream",
     "text": [
      "I am James Bond\n"
     ]
    }
   ],
   "source": [
    "p.report()"
   ]
  },
  {
   "cell_type": "code",
   "execution_count": 27,
   "id": "5c6dfbb0",
   "metadata": {},
   "outputs": [
    {
     "name": "stdout",
     "output_type": "stream",
     "text": [
      "hello!\n"
     ]
    }
   ],
   "source": [
    "p.hello()"
   ]
  },
  {
   "cell_type": "code",
   "execution_count": 28,
   "id": "3382cf1c",
   "metadata": {},
   "outputs": [],
   "source": [
    "class Agent(Person):\n",
    "    \n",
    "    def __init__(self,first_name,last_name,code_name):\n",
    "        \n",
    "        Person.__init__(self,first_name,last_name)\n",
    "        self.code_name = code_name\n",
    "        \n",
    "    def report(self):\n",
    "        print('Sorry I can not tell you my real name')\n",
    "        print('But you can call me {}'.format(self.code_name))\n",
    "        \n",
    "    def true_name(self,passcode): \n",
    "        \n",
    "        if passcode == 123:\n",
    "            print('Correct Passcode')\n",
    "            print('I am {} {}'.format(self.first_name,self.last_name))\n",
    "            \n",
    "        else:\n",
    "            self.report()\n",
    "            \n",
    "    def _private_method(self):\n",
    "        print('private method')"
   ]
  },
  {
   "cell_type": "code",
   "execution_count": 29,
   "id": "3571e5ad",
   "metadata": {},
   "outputs": [],
   "source": [
    "x = Agent(first_name='Alan',last_name='Turing',code_name='Hero')"
   ]
  },
  {
   "cell_type": "code",
   "execution_count": 30,
   "id": "77b391a3",
   "metadata": {},
   "outputs": [
    {
     "name": "stdout",
     "output_type": "stream",
     "text": [
      "hello!\n"
     ]
    }
   ],
   "source": [
    "x.hello()"
   ]
  },
  {
   "cell_type": "code",
   "execution_count": 31,
   "id": "a9fd4bc8",
   "metadata": {},
   "outputs": [
    {
     "name": "stdout",
     "output_type": "stream",
     "text": [
      "Sorry I can not tell you my real name\n",
      "But you can call me Hero\n"
     ]
    }
   ],
   "source": [
    "x.report()"
   ]
  },
  {
   "cell_type": "code",
   "execution_count": 32,
   "id": "22034307",
   "metadata": {},
   "outputs": [
    {
     "name": "stdout",
     "output_type": "stream",
     "text": [
      "Sorry I can not tell you my real name\n",
      "But you can call me Hero\n"
     ]
    }
   ],
   "source": [
    "x.true_name(234)"
   ]
  },
  {
   "cell_type": "code",
   "execution_count": 33,
   "id": "f1bf0278",
   "metadata": {},
   "outputs": [
    {
     "name": "stdout",
     "output_type": "stream",
     "text": [
      "Correct Passcode\n",
      "I am Alan Turing\n"
     ]
    }
   ],
   "source": [
    "x.true_name(123)"
   ]
  },
  {
   "cell_type": "code",
   "execution_count": 34,
   "id": "8a23af8e",
   "metadata": {},
   "outputs": [],
   "source": [
    "a = Agent(first_name='Alan',last_name='Turing',code_name='Hero')"
   ]
  },
  {
   "cell_type": "code",
   "execution_count": 35,
   "id": "bb57df5b",
   "metadata": {},
   "outputs": [
    {
     "name": "stdout",
     "output_type": "stream",
     "text": [
      "Sorry I can not tell you my real name\n",
      "But you can call me Hero\n"
     ]
    }
   ],
   "source": [
    "a.report()"
   ]
  },
  {
   "cell_type": "code",
   "execution_count": 37,
   "id": "47ab7d19",
   "metadata": {},
   "outputs": [
    {
     "name": "stdout",
     "output_type": "stream",
     "text": [
      "<__main__.Agent object at 0x00000221A1174700>\n"
     ]
    }
   ],
   "source": [
    "print(a)"
   ]
  },
  {
   "cell_type": "code",
   "execution_count": 38,
   "id": "d525564a",
   "metadata": {},
   "outputs": [
    {
     "ename": "TypeError",
     "evalue": "object of type 'Agent' has no len()",
     "output_type": "error",
     "traceback": [
      "\u001b[1;31m---------------------------------------------------------------------------\u001b[0m",
      "\u001b[1;31mTypeError\u001b[0m                                 Traceback (most recent call last)",
      "\u001b[1;32m~\\AppData\\Local\\Temp\\ipykernel_5144\\398956367.py\u001b[0m in \u001b[0;36m<module>\u001b[1;34m\u001b[0m\n\u001b[1;32m----> 1\u001b[1;33m \u001b[0mlen\u001b[0m\u001b[1;33m(\u001b[0m\u001b[0ma\u001b[0m\u001b[1;33m)\u001b[0m\u001b[1;33m\u001b[0m\u001b[1;33m\u001b[0m\u001b[0m\n\u001b[0m",
      "\u001b[1;31mTypeError\u001b[0m: object of type 'Agent' has no len()"
     ]
    }
   ],
   "source": [
    "len(a)"
   ]
  },
  {
   "cell_type": "code",
   "execution_count": 59,
   "id": "1a1f4019",
   "metadata": {},
   "outputs": [],
   "source": [
    "class Book():\n",
    "    \n",
    "    def __init__(self,title,author,pages):\n",
    "        self.title = title\n",
    "        self.author = author\n",
    "        self.pages = pages\n",
    "        \n",
    "    def __str__(self):\n",
    "        return 'Title is {} and Author is {}'.format(self.title,self.author)\n",
    "    \n",
    "    def __len__(self):\n",
    "        return self.pages\n",
    "    \n",
    "    def __del__(self):\n",
    "        print('a book has been deleted')"
   ]
  },
  {
   "cell_type": "code",
   "execution_count": 60,
   "id": "ff464463",
   "metadata": {},
   "outputs": [],
   "source": [
    "b = Book('Python Rocks', 'James Bond',200)"
   ]
  },
  {
   "cell_type": "code",
   "execution_count": 61,
   "id": "ce7ffa7a",
   "metadata": {},
   "outputs": [
    {
     "name": "stdout",
     "output_type": "stream",
     "text": [
      "Title is Python Rocks and Author is James Bond\n"
     ]
    }
   ],
   "source": [
    "print(b)"
   ]
  },
  {
   "cell_type": "code",
   "execution_count": 62,
   "id": "38c677bf",
   "metadata": {},
   "outputs": [
    {
     "data": {
      "text/plain": [
       "200"
      ]
     },
     "execution_count": 62,
     "metadata": {},
     "output_type": "execute_result"
    }
   ],
   "source": [
    "len(b)"
   ]
  },
  {
   "cell_type": "code",
   "execution_count": 63,
   "id": "13821b71",
   "metadata": {},
   "outputs": [
    {
     "name": "stdout",
     "output_type": "stream",
     "text": [
      "a book has been deleted\n"
     ]
    }
   ],
   "source": [
    "del b"
   ]
  },
  {
   "cell_type": "code",
   "execution_count": 64,
   "id": "68749b88",
   "metadata": {},
   "outputs": [
    {
     "ename": "NameError",
     "evalue": "name 'b' is not defined",
     "output_type": "error",
     "traceback": [
      "\u001b[1;31m---------------------------------------------------------------------------\u001b[0m",
      "\u001b[1;31mNameError\u001b[0m                                 Traceback (most recent call last)",
      "\u001b[1;32m~\\AppData\\Local\\Temp\\ipykernel_5144\\1685013873.py\u001b[0m in \u001b[0;36m<module>\u001b[1;34m\u001b[0m\n\u001b[1;32m----> 1\u001b[1;33m \u001b[0mb\u001b[0m\u001b[1;33m\u001b[0m\u001b[1;33m\u001b[0m\u001b[0m\n\u001b[0m",
      "\u001b[1;31mNameError\u001b[0m: name 'b' is not defined"
     ]
    }
   ],
   "source": [
    "b"
   ]
  },
  {
   "cell_type": "code",
   "execution_count": null,
   "id": "9c7e461a",
   "metadata": {},
   "outputs": [],
   "source": []
  }
 ],
 "metadata": {
  "kernelspec": {
   "display_name": "Python 3 (ipykernel)",
   "language": "python",
   "name": "python3"
  },
  "language_info": {
   "codemirror_mode": {
    "name": "ipython",
    "version": 3
   },
   "file_extension": ".py",
   "mimetype": "text/x-python",
   "name": "python",
   "nbconvert_exporter": "python",
   "pygments_lexer": "ipython3",
   "version": "3.9.13"
  }
 },
 "nbformat": 4,
 "nbformat_minor": 5
}
