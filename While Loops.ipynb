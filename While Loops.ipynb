{
 "cells": [
  {
   "cell_type": "code",
   "execution_count": 4,
   "id": "af031b09",
   "metadata": {},
   "outputs": [
    {
     "name": "stdout",
     "output_type": "stream",
     "text": [
      "X is currently:\n",
      "0\n",
      "Still less than 3, add 1 to x\n",
      "\n",
      "\n",
      "X is currently:\n",
      "1\n",
      "Still less than 3, add 1 to x\n",
      "\n",
      "\n",
      "X is currently:\n",
      "2\n",
      "Still less than 3, add 1 to x\n",
      "\n",
      "\n"
     ]
    }
   ],
   "source": [
    "x = 0\n",
    "\n",
    "while x < 3:\n",
    "    print('X is currently:')\n",
    "    print(x)\n",
    "    print('Still less than 3, add 1 to x')\n",
    "    x = x + 1\n",
    "    print('\\n')"
   ]
  },
  {
   "cell_type": "code",
   "execution_count": 7,
   "id": "ee14c462",
   "metadata": {},
   "outputs": [
    {
     "name": "stdout",
     "output_type": "stream",
     "text": [
      "Please input a number: 2\n"
     ]
    }
   ],
   "source": [
    "saved_input = input('Please input a number: ')"
   ]
  },
  {
   "cell_type": "code",
   "execution_count": 14,
   "id": "58484ace",
   "metadata": {},
   "outputs": [
    {
     "name": "stdout",
     "output_type": "stream",
     "text": [
      "Welcome Agent\n",
      "Please provide your passcode: 234\n",
      "Wrong password\n",
      "Please go again\n",
      "\n",
      "Please provide your passcode: 433332\n",
      "Wrong password\n",
      "Please go again\n",
      "\n",
      "Please provide your passcode: 123\n",
      "Correct password\n"
     ]
    }
   ],
   "source": [
    "print('Welcome Agent')\n",
    "\n",
    "passcode = 0\n",
    "\n",
    "while passcode != 123:\n",
    "    passcode = int(input('Please provide your passcode: '))\n",
    "    \n",
    "    if passcode != 123:\n",
    "        print('Wrong password')\n",
    "        print('Please go again\\n')\n",
    "        \n",
    "print('Correct password')"
   ]
  },
  {
   "cell_type": "code",
   "execution_count": 9,
   "id": "083c1724",
   "metadata": {},
   "outputs": [
    {
     "name": "stdout",
     "output_type": "stream",
     "text": [
      "number: 123\n"
     ]
    },
    {
     "data": {
      "text/plain": [
       "'123'"
      ]
     },
     "execution_count": 9,
     "metadata": {},
     "output_type": "execute_result"
    }
   ],
   "source": [
    "input('number: ')"
   ]
  },
  {
   "cell_type": "markdown",
   "id": "3d5a7de0",
   "metadata": {},
   "source": [
    "123"
   ]
  },
  {
   "cell_type": "code",
   "execution_count": 11,
   "id": "615516b6",
   "metadata": {},
   "outputs": [
    {
     "data": {
      "text/plain": [
       "True"
      ]
     },
     "execution_count": 11,
     "metadata": {},
     "output_type": "execute_result"
    }
   ],
   "source": [
    "int('123') == 123"
   ]
  },
  {
   "cell_type": "code",
   "execution_count": 12,
   "id": "30f26ae0",
   "metadata": {},
   "outputs": [
    {
     "data": {
      "text/plain": [
       "True"
      ]
     },
     "execution_count": 12,
     "metadata": {},
     "output_type": "execute_result"
    }
   ],
   "source": [
    "str(123) == '123'"
   ]
  },
  {
   "cell_type": "code",
   "execution_count": 16,
   "id": "bc8a7556",
   "metadata": {},
   "outputs": [
    {
     "name": "stdout",
     "output_type": "stream",
     "text": [
      "0\n",
      "1\n",
      "2\n"
     ]
    }
   ],
   "source": [
    "x = 0\n",
    "\n",
    "while x < 10:\n",
    "    print(x)\n",
    "    x = x + 1\n",
    "    \n",
    "    if x == 3:\n",
    "        break"
   ]
  },
  {
   "cell_type": "code",
   "execution_count": null,
   "id": "97af3d29",
   "metadata": {},
   "outputs": [],
   "source": []
  }
 ],
 "metadata": {
  "kernelspec": {
   "display_name": "Python 3 (ipykernel)",
   "language": "python",
   "name": "python3"
  },
  "language_info": {
   "codemirror_mode": {
    "name": "ipython",
    "version": 3
   },
   "file_extension": ".py",
   "mimetype": "text/x-python",
   "name": "python",
   "nbconvert_exporter": "python",
   "pygments_lexer": "ipython3",
   "version": "3.9.13"
  }
 },
 "nbformat": 4,
 "nbformat_minor": 5
}
