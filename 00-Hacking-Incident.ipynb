{
 "cells": [
  {
   "cell_type": "markdown",
   "metadata": {},
   "source": [
    "# Hacking Incident\n",
    "\n",
    "We're being hacked recruit! We need your help to get a message to the main server.\n",
    "\n",
    "We need you to accomplish 3 tasks:\n",
    "\n",
    "1. Create a Caeser cipher encryption function.\n",
    "2. Create another function that decrypts a Caeser cipher message.\n",
    "3. Create a function that will brute force every possible output for an encrypted Caeser cipher.\n",
    "\n",
    "We've set up a framework for you to follow here in this notebook. Feel free to use it, or create your own base functions."
   ]
  },
  {
   "cell_type": "markdown",
   "metadata": {},
   "source": [
    "## Encryption Function\n",
    "\n",
    "This function should take in two parameters, the plain text message and the shift number for the Caeser cipher.\n",
    "\n",
    "To create the cipher you will need to create a list of the alphabet. You can either write out the alphabet manually, or use the [string library](https://docs.python.org/3/library/string.html?highlight=string#module-string) to get all the lowercase alphabet. You will first need to run *import string* , and then call the attribute. For example:\n",
    "\n",
    "    import string\n",
    "    alphabet = string.ascii_lowercase\n",
    "    print(alphabet)\n",
    "    print(list(alphabet))\n",
    "    \n",
    "An empty function with some comments is here below for you to fill out:"
   ]
  },
  {
   "cell_type": "code",
   "execution_count": 3,
   "metadata": {},
   "outputs": [],
   "source": [
    "import string\n",
    "\n",
    "def encrypt(text,shift):\n",
    "    '''\n",
    "    INPUT: text as a string and an integer for the shift value.\n",
    "    OUTPUT: The shifted text after being run through the Caeser cipher.\n",
    "    '''\n",
    "    \n",
    "    # Create a normal plain alphabet\n",
    "    encrypted_text = list(range(len(text)))\n",
    "    \n",
    "    alphabet = string.ascii_lowercase\n",
    "    \n",
    "    # Create a shifted version of this alphabet \n",
    "    first_half = alphabet[:shift]\n",
    "    second_half = alphabet[shift:]\n",
    "    \n",
    "    shifted_alphabet = second_half+first_half\n",
    "    \n",
    "    for i,letter in enumerate(text.lower()):\n",
    "        \n",
    "        if letter in alphabet:\n",
    "            \n",
    "            original_index = alphabet.index(letter)\n",
    "            new_letter = shifted_alphabet[original_index]\n",
    "            encrypted_text[i] = new_letter\n",
    "        else:\n",
    "            encrypted_text[i] = letter\n",
    "            \n",
    "            \n",
    "    return ''.join(encrypted_text)"
   ]
  },
  {
   "cell_type": "markdown",
   "metadata": {},
   "source": [
    "** An example input and output: **"
   ]
  },
  {
   "cell_type": "code",
   "execution_count": 4,
   "metadata": {},
   "outputs": [
    {
     "data": {
      "text/plain": [
       "'trg guvf zrffntr gb gur znva freire'"
      ]
     },
     "execution_count": 4,
     "metadata": {},
     "output_type": "execute_result"
    }
   ],
   "source": [
    "encrypt('Get this message to the main server',13)"
   ]
  },
  {
   "cell_type": "markdown",
   "metadata": {},
   "source": [
    "## Decryption\n",
    "\n",
    "Now create a new function that will \"decrypt\" a shifted message. It should basically do the reverse of the encryption function. The process will be very similar as your previous function, but the alphabets will be switched."
   ]
  },
  {
   "cell_type": "code",
   "execution_count": 6,
   "metadata": {},
   "outputs": [],
   "source": [
    "def decrypt(text,shift):\n",
    "    \n",
    "    # Create a normal plain alphabet\n",
    "    decrypted_text = list(range(len(text)))\n",
    "    \n",
    "    alphabet = string.ascii_lowercase\n",
    "    \n",
    "    # Create a shifted version of this alphabet \n",
    "    first_half = alphabet[:shift]\n",
    "    second_half = alphabet[shift:]\n",
    "    \n",
    "    shifted_alphabet = second_half+first_half\n",
    "    \n",
    "    for i,letter in enumerate(text.lower()):\n",
    "        \n",
    "        if letter in alphabet:\n",
    "            \n",
    "            index = shifted_alphabet.index(letter)\n",
    "            original_letter = alphabet[index]\n",
    "            decrypted_text[i] = original_letter\n",
    "            \n",
    "        else:\n",
    "            decrypted_text[i] = letter\n",
    "            \n",
    "            \n",
    "    return ''.join(decrypted_text)"
   ]
  },
  {
   "cell_type": "markdown",
   "metadata": {},
   "source": [
    "** Here is an example output: **"
   ]
  },
  {
   "cell_type": "code",
   "execution_count": 7,
   "metadata": {},
   "outputs": [
    {
     "data": {
      "text/plain": [
       "'get this message to the main server'"
      ]
     },
     "execution_count": 7,
     "metadata": {},
     "output_type": "execute_result"
    }
   ],
   "source": [
    "decrypt('trg guvf zrffntr gb gur znva freire',13)"
   ]
  },
  {
   "cell_type": "markdown",
   "metadata": {},
   "source": [
    "## Brute Force Method\n",
    "\n",
    "There is no gaurantee that the person on the other end will know the correct shift value. In that case we need a function that can brute force through every possible shift value and print out each outcome. Then a user could quickly read through the printed messages and find the one that is readable.\n",
    "\n",
    "** In case you aren't given the shift factor number, create a function that prints out every possible shifted string given an encrypted string. **"
   ]
  },
  {
   "cell_type": "code",
   "execution_count": 8,
   "metadata": {},
   "outputs": [],
   "source": [
    "def brute_force(message):\n",
    "    \n",
    "    for i in range(26):\n",
    "        print(\"Using a shift value of {}\".format(n))\n",
    "        print(decrypt(message,n))\n",
    "        print('\\n')"
   ]
  },
  {
   "cell_type": "markdown",
   "metadata": {},
   "source": [
    "** An example output: **"
   ]
  },
  {
   "cell_type": "code",
   "execution_count": 56,
   "metadata": {},
   "outputs": [
    {
     "name": "stdout",
     "output_type": "stream",
     "text": [
      "Using shift value of 0\n",
      "trg guvf zrffntr gb gur znva freire\n",
      "\n",
      "\n",
      "Using shift value of 1\n",
      "sqf ftue yqeemsq fa ftq ymuz eqdhqd\n",
      "\n",
      "\n",
      "Using shift value of 2\n",
      "rpe estd xpddlrp ez esp xlty dpcgpc\n",
      "\n",
      "\n",
      "Using shift value of 3\n",
      "qod drsc wocckqo dy dro wksx cobfob\n",
      "\n",
      "\n",
      "Using shift value of 4\n",
      "pnc cqrb vnbbjpn cx cqn vjrw bnaena\n",
      "\n",
      "\n",
      "Using shift value of 5\n",
      "omb bpqa umaaiom bw bpm uiqv amzdmz\n",
      "\n",
      "\n",
      "Using shift value of 6\n",
      "nla aopz tlzzhnl av aol thpu zlycly\n",
      "\n",
      "\n",
      "Using shift value of 7\n",
      "mkz znoy skyygmk zu znk sgot ykxbkx\n",
      "\n",
      "\n",
      "Using shift value of 8\n",
      "ljy ymnx rjxxflj yt ymj rfns xjwajw\n",
      "\n",
      "\n",
      "Using shift value of 9\n",
      "kix xlmw qiwweki xs xli qemr wivziv\n",
      "\n",
      "\n",
      "Using shift value of 10\n",
      "jhw wklv phvvdjh wr wkh pdlq vhuyhu\n",
      "\n",
      "\n",
      "Using shift value of 11\n",
      "igv vjku oguucig vq vjg ockp ugtxgt\n",
      "\n",
      "\n",
      "Using shift value of 12\n",
      "hfu uijt nfttbhf up uif nbjo tfswfs\n",
      "\n",
      "\n",
      "Using shift value of 13\n",
      "get this message to the main server\n",
      "\n",
      "\n",
      "Using shift value of 14\n",
      "fds sghr ldrrzfd sn sgd lzhm rdqudq\n",
      "\n",
      "\n",
      "Using shift value of 15\n",
      "ecr rfgq kcqqyec rm rfc kygl qcptcp\n",
      "\n",
      "\n",
      "Using shift value of 16\n",
      "dbq qefp jbppxdb ql qeb jxfk pbosbo\n",
      "\n",
      "\n",
      "Using shift value of 17\n",
      "cap pdeo iaoowca pk pda iwej oanran\n",
      "\n",
      "\n",
      "Using shift value of 18\n",
      "bzo ocdn hznnvbz oj ocz hvdi nzmqzm\n",
      "\n",
      "\n",
      "Using shift value of 19\n",
      "ayn nbcm gymmuay ni nby guch mylpyl\n",
      "\n",
      "\n",
      "Using shift value of 20\n",
      "zxm mabl fxlltzx mh max ftbg lxkoxk\n",
      "\n",
      "\n",
      "Using shift value of 21\n",
      "ywl lzak ewkksyw lg lzw esaf kwjnwj\n",
      "\n",
      "\n",
      "Using shift value of 22\n",
      "xvk kyzj dvjjrxv kf kyv drze jvimvi\n",
      "\n",
      "\n",
      "Using shift value of 23\n",
      "wuj jxyi cuiiqwu je jxu cqyd iuhluh\n",
      "\n",
      "\n",
      "Using shift value of 24\n",
      "vti iwxh bthhpvt id iwt bpxc htgktg\n",
      "\n",
      "\n",
      "Using shift value of 25\n",
      "ush hvwg asggous hc hvs aowb gsfjsf\n",
      "\n",
      "\n"
     ]
    }
   ],
   "source": [
    "brute_force('trg guvf zrffntr gb gur znva freire')"
   ]
  }
 ],
 "metadata": {
  "kernelspec": {
   "display_name": "Python 3 (ipykernel)",
   "language": "python",
   "name": "python3"
  },
  "language_info": {
   "codemirror_mode": {
    "name": "ipython",
    "version": 3
   },
   "file_extension": ".py",
   "mimetype": "text/x-python",
   "name": "python",
   "nbconvert_exporter": "python",
   "pygments_lexer": "ipython3",
   "version": "3.9.13"
  }
 },
 "nbformat": 4,
 "nbformat_minor": 2
}
