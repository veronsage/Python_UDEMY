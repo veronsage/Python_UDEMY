{
 "cells": [
  {
   "cell_type": "code",
   "execution_count": 8,
   "id": "10b7cdfc",
   "metadata": {},
   "outputs": [],
   "source": [
    "f = open('new_file2.txt','w+')\n",
    "f.write('here is some text')\n",
    "f.close()"
   ]
  },
  {
   "cell_type": "code",
   "execution_count": 9,
   "id": "0ea1b31f",
   "metadata": {},
   "outputs": [],
   "source": [
    "import zipfile"
   ]
  },
  {
   "cell_type": "code",
   "execution_count": 10,
   "id": "fc40a265",
   "metadata": {},
   "outputs": [],
   "source": [
    "comp_file = zipfile.ZipFile('my_compressed_info.zip','w')"
   ]
  },
  {
   "cell_type": "code",
   "execution_count": 12,
   "id": "a8b2a0b9",
   "metadata": {},
   "outputs": [],
   "source": [
    "comp_file.write('new_file2.txt',compress_type=zipfile.ZIP_DEFLATED)"
   ]
  },
  {
   "cell_type": "code",
   "execution_count": 13,
   "id": "690f6f12",
   "metadata": {},
   "outputs": [],
   "source": [
    "comp_file.close()"
   ]
  },
  {
   "cell_type": "code",
   "execution_count": 15,
   "id": "88946cde",
   "metadata": {},
   "outputs": [],
   "source": [
    "zib_obj = zipfile.ZipFile('my_compressed_info.zip','r')"
   ]
  },
  {
   "cell_type": "code",
   "execution_count": 16,
   "id": "407cc492",
   "metadata": {},
   "outputs": [],
   "source": [
    "zib_obj.extractall('extracted_content')"
   ]
  },
  {
   "cell_type": "code",
   "execution_count": 18,
   "id": "8840b02a",
   "metadata": {},
   "outputs": [
    {
     "data": {
      "text/plain": [
       "'C:\\\\Users\\\\user\\\\new_file2.txt'"
      ]
     },
     "execution_count": 18,
     "metadata": {},
     "output_type": "execute_result"
    }
   ],
   "source": [
    "zib_obj.extract('new_file2.txt')"
   ]
  },
  {
   "cell_type": "code",
   "execution_count": null,
   "id": "e422c51c",
   "metadata": {},
   "outputs": [],
   "source": [
    "#SHUTIL Library"
   ]
  },
  {
   "cell_type": "code",
   "execution_count": null,
   "id": "7fdcfac5",
   "metadata": {},
   "outputs": [],
   "source": [
    "import shutil"
   ]
  },
  {
   "cell_type": "code",
   "execution_count": null,
   "id": "0b1c095a",
   "metadata": {},
   "outputs": [],
   "source": [
    "shutil.make_archive('my_new_compressed_file','zip','Desktop')"
   ]
  },
  {
   "cell_type": "code",
   "execution_count": null,
   "id": "efbf04f9",
   "metadata": {},
   "outputs": [],
   "source": [
    "shutil.unpack_archive(''my_new_compressed_file','my_extracted_content','zip')"
   ]
  },
  {
   "cell_type": "code",
   "execution_count": null,
   "id": "2a036498",
   "metadata": {},
   "outputs": [],
   "source": []
  }
 ],
 "metadata": {
  "kernelspec": {
   "display_name": "Python 3 (ipykernel)",
   "language": "python",
   "name": "python3"
  },
  "language_info": {
   "codemirror_mode": {
    "name": "ipython",
    "version": 3
   },
   "file_extension": ".py",
   "mimetype": "text/x-python",
   "name": "python",
   "nbconvert_exporter": "python",
   "pygments_lexer": "ipython3",
   "version": "3.9.13"
  }
 },
 "nbformat": 4,
 "nbformat_minor": 5
}
