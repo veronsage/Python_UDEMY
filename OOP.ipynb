{
 "cells": [
  {
   "cell_type": "code",
   "execution_count": 1,
   "id": "75c0307b",
   "metadata": {},
   "outputs": [],
   "source": [
    "mylist = [1,2,3]"
   ]
  },
  {
   "cell_type": "code",
   "execution_count": 2,
   "id": "8b9cdf51",
   "metadata": {},
   "outputs": [],
   "source": [
    "mylist.append(4)"
   ]
  },
  {
   "cell_type": "code",
   "execution_count": 3,
   "id": "3e1769ca",
   "metadata": {},
   "outputs": [
    {
     "data": {
      "text/plain": [
       "1"
      ]
     },
     "execution_count": 3,
     "metadata": {},
     "output_type": "execute_result"
    }
   ],
   "source": [
    "mylist.count(2)"
   ]
  },
  {
   "cell_type": "code",
   "execution_count": 4,
   "id": "beeec4c3",
   "metadata": {},
   "outputs": [
    {
     "data": {
      "text/plain": [
       "[1, 2, 3, 4]"
      ]
     },
     "execution_count": 4,
     "metadata": {},
     "output_type": "execute_result"
    }
   ],
   "source": [
    "mylist"
   ]
  },
  {
   "cell_type": "code",
   "execution_count": 5,
   "id": "d617cffd",
   "metadata": {},
   "outputs": [
    {
     "data": {
      "text/plain": [
       "list"
      ]
     },
     "execution_count": 5,
     "metadata": {},
     "output_type": "execute_result"
    }
   ],
   "source": [
    "type([])"
   ]
  },
  {
   "cell_type": "code",
   "execution_count": 6,
   "id": "237b5f43",
   "metadata": {},
   "outputs": [
    {
     "data": {
      "text/plain": [
       "dict"
      ]
     },
     "execution_count": 6,
     "metadata": {},
     "output_type": "execute_result"
    }
   ],
   "source": [
    "type({})"
   ]
  },
  {
   "cell_type": "code",
   "execution_count": null,
   "id": "aefb6d0e",
   "metadata": {},
   "outputs": [],
   "source": []
  },
  {
   "cell_type": "code",
   "execution_count": 7,
   "id": "15491526",
   "metadata": {},
   "outputs": [],
   "source": [
    "class Sample():\n",
    "    pass"
   ]
  },
  {
   "cell_type": "code",
   "execution_count": 8,
   "id": "628ff967",
   "metadata": {},
   "outputs": [],
   "source": [
    "x = Sample()"
   ]
  },
  {
   "cell_type": "code",
   "execution_count": 9,
   "id": "5e822798",
   "metadata": {},
   "outputs": [
    {
     "data": {
      "text/plain": [
       "__main__.Sample"
      ]
     },
     "execution_count": 9,
     "metadata": {},
     "output_type": "execute_result"
    }
   ],
   "source": [
    "type(x)"
   ]
  },
  {
   "cell_type": "code",
   "execution_count": 22,
   "id": "013d7f1b",
   "metadata": {},
   "outputs": [],
   "source": [
    "class Agent():\n",
    "    \n",
    "    #Class object attribure\n",
    "    planet = 'Earth'\n",
    "    \n",
    "    def __init__(self,real_name,eye_color,height):\n",
    "        self.real_name = real_name\n",
    "        self.eye_color = eye_color\n",
    "        self.height = height"
   ]
  },
  {
   "cell_type": "code",
   "execution_count": 23,
   "id": "f8528984",
   "metadata": {},
   "outputs": [],
   "source": [
    "x = Agent('James Bond', 'green',175)"
   ]
  },
  {
   "cell_type": "code",
   "execution_count": 24,
   "id": "8e6daadf",
   "metadata": {},
   "outputs": [
    {
     "data": {
      "text/plain": [
       "<__main__.Agent at 0x299645f2be0>"
      ]
     },
     "execution_count": 24,
     "metadata": {},
     "output_type": "execute_result"
    }
   ],
   "source": [
    "x"
   ]
  },
  {
   "cell_type": "code",
   "execution_count": 25,
   "id": "f8820839",
   "metadata": {},
   "outputs": [
    {
     "data": {
      "text/plain": [
       "'James Bond'"
      ]
     },
     "execution_count": 25,
     "metadata": {},
     "output_type": "execute_result"
    }
   ],
   "source": [
    "x.real_name"
   ]
  },
  {
   "cell_type": "code",
   "execution_count": 26,
   "id": "d33f9ceb",
   "metadata": {},
   "outputs": [
    {
     "data": {
      "text/plain": [
       "'green'"
      ]
     },
     "execution_count": 26,
     "metadata": {},
     "output_type": "execute_result"
    }
   ],
   "source": [
    "x.eye_color"
   ]
  },
  {
   "cell_type": "code",
   "execution_count": 27,
   "id": "919fa90a",
   "metadata": {},
   "outputs": [
    {
     "data": {
      "text/plain": [
       "175"
      ]
     },
     "execution_count": 27,
     "metadata": {},
     "output_type": "execute_result"
    }
   ],
   "source": [
    "x.height"
   ]
  },
  {
   "cell_type": "code",
   "execution_count": 28,
   "id": "2a3ed6df",
   "metadata": {},
   "outputs": [],
   "source": [
    "y = Agent('Sally','blue',160)"
   ]
  },
  {
   "cell_type": "code",
   "execution_count": 29,
   "id": "a1350065",
   "metadata": {},
   "outputs": [
    {
     "data": {
      "text/plain": [
       "'James Bond'"
      ]
     },
     "execution_count": 29,
     "metadata": {},
     "output_type": "execute_result"
    }
   ],
   "source": [
    "x.real_name"
   ]
  },
  {
   "cell_type": "code",
   "execution_count": 30,
   "id": "d782f766",
   "metadata": {},
   "outputs": [
    {
     "data": {
      "text/plain": [
       "'Sally'"
      ]
     },
     "execution_count": 30,
     "metadata": {},
     "output_type": "execute_result"
    }
   ],
   "source": [
    "y.real_name"
   ]
  },
  {
   "cell_type": "code",
   "execution_count": 31,
   "id": "a23d968f",
   "metadata": {},
   "outputs": [
    {
     "data": {
      "text/plain": [
       "'Earth'"
      ]
     },
     "execution_count": 31,
     "metadata": {},
     "output_type": "execute_result"
    }
   ],
   "source": [
    "x.planet"
   ]
  },
  {
   "cell_type": "code",
   "execution_count": 32,
   "id": "af045bab",
   "metadata": {},
   "outputs": [
    {
     "data": {
      "text/plain": [
       "'Earth'"
      ]
     },
     "execution_count": 32,
     "metadata": {},
     "output_type": "execute_result"
    }
   ],
   "source": [
    "y.planet"
   ]
  },
  {
   "cell_type": "code",
   "execution_count": 33,
   "id": "4f7f9798",
   "metadata": {},
   "outputs": [],
   "source": [
    "#Methods"
   ]
  },
  {
   "cell_type": "code",
   "execution_count": 67,
   "id": "6413f525",
   "metadata": {},
   "outputs": [],
   "source": [
    "class Circle():\n",
    "    \n",
    "    pi = 3.14\n",
    "    \n",
    "    def __init__(self,radius=1):\n",
    "        self.radius = radius\n",
    "        \n",
    "    def area(self):\n",
    "        return self.radius * self.radius * Circle.pi\n",
    "    \n",
    "    def perimetr(self):\n",
    "        return 2 * self.radius * Circle.pi\n",
    "    \n",
    "    def report_something(self,name):\n",
    "        return 'Report {}'.format(name)"
   ]
  },
  {
   "cell_type": "code",
   "execution_count": 68,
   "id": "e3649366",
   "metadata": {},
   "outputs": [],
   "source": [
    "mycircle = Circle(3)"
   ]
  },
  {
   "cell_type": "code",
   "execution_count": 69,
   "id": "a75ecf5d",
   "metadata": {},
   "outputs": [
    {
     "data": {
      "text/plain": [
       "3"
      ]
     },
     "execution_count": 69,
     "metadata": {},
     "output_type": "execute_result"
    }
   ],
   "source": [
    "mycircle.radius"
   ]
  },
  {
   "cell_type": "code",
   "execution_count": 70,
   "id": "855fe19d",
   "metadata": {},
   "outputs": [
    {
     "data": {
      "text/plain": [
       "28.26"
      ]
     },
     "execution_count": 70,
     "metadata": {},
     "output_type": "execute_result"
    }
   ],
   "source": [
    "mycircle.area()"
   ]
  },
  {
   "cell_type": "code",
   "execution_count": 71,
   "id": "91b8e4a8",
   "metadata": {},
   "outputs": [
    {
     "data": {
      "text/plain": [
       "18.84"
      ]
     },
     "execution_count": 71,
     "metadata": {},
     "output_type": "execute_result"
    }
   ],
   "source": [
    "mycircle.perimetr()"
   ]
  },
  {
   "cell_type": "code",
   "execution_count": 72,
   "id": "d169faaf",
   "metadata": {},
   "outputs": [
    {
     "data": {
      "text/plain": [
       "'Report John'"
      ]
     },
     "execution_count": 72,
     "metadata": {},
     "output_type": "execute_result"
    }
   ],
   "source": [
    "mycircle.report_something('John')"
   ]
  },
  {
   "cell_type": "code",
   "execution_count": 73,
   "id": "b2b3de25",
   "metadata": {},
   "outputs": [],
   "source": [
    "#inharitance"
   ]
  },
  {
   "cell_type": "code",
   "execution_count": 77,
   "id": "5b34cbc4",
   "metadata": {},
   "outputs": [],
   "source": [
    "class Person():\n",
    "    \n",
    "    def __init__(self,first_name,last_name):\n",
    "        self.first_name = first_name\n",
    "        self.last_name = last_name\n",
    "        \n",
    "    def report(self):\n",
    "        print('I am {} {}'.format(self.first_name, self.last_name))\n",
    "        \n",
    "    def hello(self):\n",
    "        print('hello!')"
   ]
  },
  {
   "cell_type": "code",
   "execution_count": 78,
   "id": "963c9a4d",
   "metadata": {},
   "outputs": [],
   "source": [
    "p = Person('James','Bond')"
   ]
  },
  {
   "cell_type": "code",
   "execution_count": 79,
   "id": "32df237b",
   "metadata": {},
   "outputs": [
    {
     "name": "stdout",
     "output_type": "stream",
     "text": [
      "I am James Bond\n"
     ]
    }
   ],
   "source": [
    "p.report()"
   ]
  },
  {
   "cell_type": "code",
   "execution_count": 80,
   "id": "5c6dfbb0",
   "metadata": {},
   "outputs": [
    {
     "name": "stdout",
     "output_type": "stream",
     "text": [
      "hello!\n"
     ]
    }
   ],
   "source": [
    "p.hello()"
   ]
  },
  {
   "cell_type": "code",
   "execution_count": 99,
   "id": "3382cf1c",
   "metadata": {},
   "outputs": [],
   "source": [
    "class Agent(Person):\n",
    "    \n",
    "    def __init__(self,first_name,last_name,code_name):\n",
    "        \n",
    "        Person.__init__(self,first_name,last_name)\n",
    "        self.code_name = code_name\n",
    "        \n",
    "    def report(self):\n",
    "        print('Sorry I can not tell you my real name')\n",
    "        print('But you can call me {}'.format(self.code_name))\n",
    "        \n",
    "    def true_name(self,passcode): \n",
    "        \n",
    "        if passcode == 123:\n",
    "            print('Correct Passcode')\n",
    "            print('I am {} {}'.format(self.first_name,self.last_name))\n",
    "            \n",
    "        else:\n",
    "            self.report()"
   ]
  },
  {
   "cell_type": "code",
   "execution_count": 100,
   "id": "3571e5ad",
   "metadata": {},
   "outputs": [],
   "source": [
    "x = Agent(first_name='Alan',last_name='Turing',code_name='Hero')"
   ]
  },
  {
   "cell_type": "code",
   "execution_count": 101,
   "id": "77b391a3",
   "metadata": {},
   "outputs": [
    {
     "name": "stdout",
     "output_type": "stream",
     "text": [
      "hello!\n"
     ]
    }
   ],
   "source": [
    "x.hello()"
   ]
  },
  {
   "cell_type": "code",
   "execution_count": 102,
   "id": "a9fd4bc8",
   "metadata": {},
   "outputs": [
    {
     "name": "stdout",
     "output_type": "stream",
     "text": [
      "Sorry I can not tell you my real name\n",
      "But you can call me Hero\n"
     ]
    }
   ],
   "source": [
    "x.report()"
   ]
  },
  {
   "cell_type": "code",
   "execution_count": 104,
   "id": "22034307",
   "metadata": {},
   "outputs": [
    {
     "name": "stdout",
     "output_type": "stream",
     "text": [
      "Sorry I can not tell you my real name\n",
      "But you can call me Hero\n"
     ]
    }
   ],
   "source": [
    "x.true_name(234)"
   ]
  },
  {
   "cell_type": "code",
   "execution_count": 105,
   "id": "f1bf0278",
   "metadata": {},
   "outputs": [
    {
     "name": "stdout",
     "output_type": "stream",
     "text": [
      "Correct Passcode\n",
      "I am Alan Turing\n"
     ]
    }
   ],
   "source": [
    "x.true_name(123)"
   ]
  },
  {
   "cell_type": "code",
   "execution_count": null,
   "id": "8a23af8e",
   "metadata": {},
   "outputs": [],
   "source": []
  }
 ],
 "metadata": {
  "kernelspec": {
   "display_name": "Python 3 (ipykernel)",
   "language": "python",
   "name": "python3"
  },
  "language_info": {
   "codemirror_mode": {
    "name": "ipython",
    "version": 3
   },
   "file_extension": ".py",
   "mimetype": "text/x-python",
   "name": "python",
   "nbconvert_exporter": "python",
   "pygments_lexer": "ipython3",
   "version": "3.9.13"
  }
 },
 "nbformat": 4,
 "nbformat_minor": 5
}
