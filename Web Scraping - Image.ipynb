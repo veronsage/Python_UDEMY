{
 "cells": [
  {
   "cell_type": "code",
   "execution_count": 10,
   "id": "e1adef5d",
   "metadata": {},
   "outputs": [],
   "source": [
    "import requests\n",
    "import bs4"
   ]
  },
  {
   "cell_type": "code",
   "execution_count": 19,
   "id": "0f8887e9",
   "metadata": {},
   "outputs": [],
   "source": [
    "res = requests.get('https://ru.wikipedia.org/wiki/%D0%9A%D1%80%D0%B8%D0%BF%D1%82%D0%BE%D0%B3%D1%80%D0%B0%D1%84%D0%B8%D1%8F')"
   ]
  },
  {
   "cell_type": "code",
   "execution_count": 20,
   "id": "9607b8f3",
   "metadata": {},
   "outputs": [],
   "source": [
    "soup = bs4.BeautifulSoup(res.text,'lxml')"
   ]
  },
  {
   "cell_type": "code",
   "execution_count": 21,
   "id": "963ba5a6",
   "metadata": {},
   "outputs": [],
   "source": [
    "image_info = soup.select('.thumbimage')"
   ]
  },
  {
   "cell_type": "code",
   "execution_count": 22,
   "id": "bfd06b09",
   "metadata": {},
   "outputs": [
    {
     "data": {
      "text/plain": [
       "bs4.element.ResultSet"
      ]
     },
     "execution_count": 22,
     "metadata": {},
     "output_type": "execute_result"
    }
   ],
   "source": [
    "type(image_info)"
   ]
  },
  {
   "cell_type": "code",
   "execution_count": 23,
   "id": "20831626",
   "metadata": {},
   "outputs": [
    {
     "data": {
      "text/plain": [
       "4"
      ]
     },
     "execution_count": 23,
     "metadata": {},
     "output_type": "execute_result"
    }
   ],
   "source": [
    "len(image_info)"
   ]
  },
  {
   "cell_type": "code",
   "execution_count": 24,
   "id": "3c8dce08",
   "metadata": {},
   "outputs": [],
   "source": [
    "crypto = image_info[0]"
   ]
  },
  {
   "cell_type": "code",
   "execution_count": 26,
   "id": "22e40498",
   "metadata": {},
   "outputs": [
    {
     "data": {
      "text/plain": [
       "'//upload.wikimedia.org/wikipedia/commons/thumb/4/4d/Lorenz-SZ42-2.jpg/400px-Lorenz-SZ42-2.jpg'"
      ]
     },
     "execution_count": 26,
     "metadata": {},
     "output_type": "execute_result"
    }
   ],
   "source": [
    "crypto['src']"
   ]
  },
  {
   "cell_type": "code",
   "execution_count": 29,
   "id": "90b8177b",
   "metadata": {},
   "outputs": [],
   "source": [
    "image_link = 'http:' + crypto['src']"
   ]
  },
  {
   "cell_type": "code",
   "execution_count": 30,
   "id": "46f22899",
   "metadata": {},
   "outputs": [
    {
     "data": {
      "text/plain": [
       "'http://upload.wikimedia.org/wikipedia/commons/thumb/4/4d/Lorenz-SZ42-2.jpg/400px-Lorenz-SZ42-2.jpg'"
      ]
     },
     "execution_count": 30,
     "metadata": {},
     "output_type": "execute_result"
    }
   ],
   "source": [
    "image_link"
   ]
  },
  {
   "cell_type": "code",
   "execution_count": 31,
   "id": "d7858480",
   "metadata": {},
   "outputs": [],
   "source": [
    "crypto_image = requests.get(image_link,'lxml')"
   ]
  },
  {
   "cell_type": "code",
   "execution_count": 33,
   "id": "44255eec",
   "metadata": {},
   "outputs": [
    {
     "data": {
      "text/plain": [
       "b'<!DOCTYPE html>\\n<html lang=\"en\">\\n<meta charset=\"utf-8\">\\n<title>Wikimedia Error</title>\\n<style>\\n* { margin: 0; padding: 0; }\\nbody { background: #fff; font: 15px/1.6 sans-serif; color: #333; }\\n.content { margin: 7% auto 0; padding: 2em 1em 1em; max-width: 640px; }\\n.footer { clear: both; margin-top: 14%; border-top: 1px solid #e5e5e5; background: #f9f9f9; padding: 2em 0; font-size: 0.8em; text-align: center; }\\nimg { float: left; margin: 0 2em 2em 0; }\\na img { border: 0; }\\nh1 { margin-top: 1em; font-size: 1.2em; }\\n.content-text { overflow: hidden; overflow-wrap: break-word; word-wrap: break-word; -webkit-hyphens: auto; -moz-hyphens: auto; -ms-hyphens: auto; hyphens: auto; }\\np { margin: 0.7em 0 1em 0; }\\na { color: #0645ad; text-decoration: none; }\\na:hover { text-decoration: underline; }\\ncode { font-family: sans-serif; }\\n.text-muted { color: #777; }\\n</style>\\n<div class=\"content\" role=\"main\">\\n<a href=\"https://www.wikimedia.org\"><img src=\"https://www.wikimedia.org/static/images/wmf-logo.png\" srcset=\"https://www.wikimedia.org/static/images/wmf-logo-2x.png 2x\" alt=\"Wikimedia\" width=\"135\" height=\"101\">\\n</a>\\n<h1>Error</h1>\\n<div class=\"content-text\">\\n<p>Our servers are currently under maintenance or experiencing a technical problem.\\n\\nPlease <a href=\"\" title=\"Reload this page\" onclick=\"window.location.reload(false); return false\">try again</a> in a few&nbsp;minutes.</p>\\n\\n<p>See the error message at the bottom of this page for more&nbsp;information.</p>\\n</div>\\n</div>\\n<div class=\"footer\"><p>If you report this error to the Wikimedia System Administrators, please include the details below.</p><p class=\"text-muted\"><code>Request from 31.173.87.72 via cp3057 cp3057, Varnish XID 852830706<br>Upstream caches: cp3057 int<br>Error: 403, Forbidden. Please comply with the User-Agent policy: https://meta.wikimedia.org/wiki/User-Agent_policy at Thu, 27 Apr 2023 21:56:30 GMT</code></p>\\n</div>\\n</html>\\n'"
      ]
     },
     "execution_count": 33,
     "metadata": {},
     "output_type": "execute_result"
    }
   ],
   "source": [
    "crypto_image.content"
   ]
  },
  {
   "cell_type": "code",
   "execution_count": 49,
   "id": "e74c5e41",
   "metadata": {},
   "outputs": [],
   "source": [
    "f = open('crypto_image_new.jpg','wb')"
   ]
  },
  {
   "cell_type": "code",
   "execution_count": 50,
   "id": "e718bba6",
   "metadata": {},
   "outputs": [
    {
     "data": {
      "text/plain": [
       "1905"
      ]
     },
     "execution_count": 50,
     "metadata": {},
     "output_type": "execute_result"
    }
   ],
   "source": [
    "f.write(crypto_image.content)"
   ]
  },
  {
   "cell_type": "code",
   "execution_count": 51,
   "id": "659181f3",
   "metadata": {},
   "outputs": [],
   "source": [
    "f.close()"
   ]
  },
  {
   "cell_type": "markdown",
   "id": "bf69f36f",
   "metadata": {},
   "source": [
    "<img src='crypto_image_new.jpg'>"
   ]
  },
  {
   "cell_type": "code",
   "execution_count": null,
   "id": "aa440380",
   "metadata": {},
   "outputs": [],
   "source": []
  }
 ],
 "metadata": {
  "kernelspec": {
   "display_name": "Python 3 (ipykernel)",
   "language": "python",
   "name": "python3"
  },
  "language_info": {
   "codemirror_mode": {
    "name": "ipython",
    "version": 3
   },
   "file_extension": ".py",
   "mimetype": "text/x-python",
   "name": "python",
   "nbconvert_exporter": "python",
   "pygments_lexer": "ipython3",
   "version": "3.9.13"
  }
 },
 "nbformat": 4,
 "nbformat_minor": 5
}
