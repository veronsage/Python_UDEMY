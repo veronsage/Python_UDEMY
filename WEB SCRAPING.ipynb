{
 "cells": [
  {
   "cell_type": "code",
   "execution_count": 4,
   "id": "683cd466",
   "metadata": {},
   "outputs": [],
   "source": [
    "import requests"
   ]
  },
  {
   "cell_type": "code",
   "execution_count": 5,
   "id": "381e6d42",
   "metadata": {},
   "outputs": [],
   "source": [
    "res = requests.get('http://www.example.com')"
   ]
  },
  {
   "cell_type": "code",
   "execution_count": 6,
   "id": "d0dcf69c",
   "metadata": {},
   "outputs": [
    {
     "data": {
      "text/plain": [
       "requests.models.Response"
      ]
     },
     "execution_count": 6,
     "metadata": {},
     "output_type": "execute_result"
    }
   ],
   "source": [
    "type(res)"
   ]
  },
  {
   "cell_type": "code",
   "execution_count": 7,
   "id": "60ae458f",
   "metadata": {},
   "outputs": [
    {
     "data": {
      "text/plain": [
       "'<!doctype html>\\n<html>\\n<head>\\n    <title>Example Domain</title>\\n\\n    <meta charset=\"utf-8\" />\\n    <meta http-equiv=\"Content-type\" content=\"text/html; charset=utf-8\" />\\n    <meta name=\"viewport\" content=\"width=device-width, initial-scale=1\" />\\n    <style type=\"text/css\">\\n    body {\\n        background-color: #f0f0f2;\\n        margin: 0;\\n        padding: 0;\\n        font-family: -apple-system, system-ui, BlinkMacSystemFont, \"Segoe UI\", \"Open Sans\", \"Helvetica Neue\", Helvetica, Arial, sans-serif;\\n        \\n    }\\n    div {\\n        width: 600px;\\n        margin: 5em auto;\\n        padding: 2em;\\n        background-color: #fdfdff;\\n        border-radius: 0.5em;\\n        box-shadow: 2px 3px 7px 2px rgba(0,0,0,0.02);\\n    }\\n    a:link, a:visited {\\n        color: #38488f;\\n        text-decoration: none;\\n    }\\n    @media (max-width: 700px) {\\n        div {\\n            margin: 0 auto;\\n            width: auto;\\n        }\\n    }\\n    </style>    \\n</head>\\n\\n<body>\\n<div>\\n    <h1>Example Domain</h1>\\n    <p>This domain is for use in illustrative examples in documents. You may use this\\n    domain in literature without prior coordination or asking for permission.</p>\\n    <p><a href=\"https://www.iana.org/domains/example\">More information...</a></p>\\n</div>\\n</body>\\n</html>\\n'"
      ]
     },
     "execution_count": 7,
     "metadata": {},
     "output_type": "execute_result"
    }
   ],
   "source": [
    "res.text"
   ]
  },
  {
   "cell_type": "code",
   "execution_count": 21,
   "id": "1e48da1e",
   "metadata": {},
   "outputs": [],
   "source": [
    "import bs4"
   ]
  },
  {
   "cell_type": "code",
   "execution_count": 22,
   "id": "65a05e7f",
   "metadata": {},
   "outputs": [],
   "source": [
    "soup = bs4.BeautifulSoup(res.text,'lxml')"
   ]
  },
  {
   "cell_type": "code",
   "execution_count": 23,
   "id": "eb609553",
   "metadata": {},
   "outputs": [
    {
     "data": {
      "text/plain": [
       "bs4.BeautifulSoup"
      ]
     },
     "execution_count": 23,
     "metadata": {},
     "output_type": "execute_result"
    }
   ],
   "source": [
    "type(soup)"
   ]
  },
  {
   "cell_type": "code",
   "execution_count": 24,
   "id": "1cab7e20",
   "metadata": {},
   "outputs": [
    {
     "data": {
      "text/plain": [
       "[<title>Example Domain</title>]"
      ]
     },
     "execution_count": 24,
     "metadata": {},
     "output_type": "execute_result"
    }
   ],
   "source": [
    "soup.select('title')"
   ]
  },
  {
   "cell_type": "code",
   "execution_count": 25,
   "id": "fdc81d53",
   "metadata": {},
   "outputs": [],
   "source": [
    "title_tag_list = soup.select('title')"
   ]
  },
  {
   "cell_type": "code",
   "execution_count": 26,
   "id": "aa93c95e",
   "metadata": {},
   "outputs": [
    {
     "data": {
      "text/plain": [
       "'Example Domain'"
      ]
     },
     "execution_count": 26,
     "metadata": {},
     "output_type": "execute_result"
    }
   ],
   "source": [
    "title_tag_list[0].getText()"
   ]
  },
  {
   "cell_type": "code",
   "execution_count": 41,
   "id": "e168782b",
   "metadata": {},
   "outputs": [],
   "source": [
    "res = requests.get('https://ru.wikipedia.org/wiki/%D0%9A%D0%BE%D0%BC%D0%BD%D0%B0%D1%82%D0%B0_641A')"
   ]
  },
  {
   "cell_type": "code",
   "execution_count": 42,
   "id": "927d3edd",
   "metadata": {},
   "outputs": [],
   "source": [
    "soup = bs4.BeautifulSoup(res.text,'lxml')"
   ]
  },
  {
   "cell_type": "code",
   "execution_count": 44,
   "id": "f63d48e3",
   "metadata": {},
   "outputs": [
    {
     "data": {
      "text/plain": [
       "[<span class=\"mw-headline\" id=\"Описание\">Описание</span>,\n",
       " <span class=\"mw-headline\" id=\"Иск_EFF\">Иск EFF</span>,\n",
       " <span class=\"mw-headline\" id=\"См._также\">См. также</span>,\n",
       " <span class=\"mw-headline\" id=\"Примечания\">Примечания</span>,\n",
       " <span class=\"mw-headline\" id=\"Литература\">Литература</span>,\n",
       " <span class=\"mw-headline\" id=\"Ссылки\">Ссылки</span>]"
      ]
     },
     "execution_count": 44,
     "metadata": {},
     "output_type": "execute_result"
    }
   ],
   "source": [
    "soup.select('.mw-headline')"
   ]
  },
  {
   "cell_type": "code",
   "execution_count": 47,
   "id": "5b0f3e42",
   "metadata": {},
   "outputs": [
    {
     "data": {
      "text/plain": [
       "[<h2 id=\"mw-toc-heading\">Содержание</h2>,\n",
       " <h2><span id=\".D0.9E.D0.BF.D0.B8.D1.81.D0.B0.D0.BD.D0.B8.D0.B5\"></span><span class=\"mw-headline\" id=\"Описание\">Описание</span><span class=\"mw-editsection\"><span class=\"mw-editsection-bracket\">[</span><a class=\"mw-editsection-visualeditor\" href=\"/w/index.php?title=%D0%9A%D0%BE%D0%BC%D0%BD%D0%B0%D1%82%D0%B0_641A&amp;veaction=edit&amp;section=1\" title=\"Редактировать раздел «Описание»\">править</a><span class=\"mw-editsection-divider\"> | </span><a href=\"/w/index.php?title=%D0%9A%D0%BE%D0%BC%D0%BD%D0%B0%D1%82%D0%B0_641A&amp;action=edit&amp;section=1\" title=\"Редактировать раздел «Описание»\">править код</a><span class=\"mw-editsection-bracket\">]</span></span></h2>,\n",
       " <h2><span id=\".D0.98.D1.81.D0.BA_EFF\"></span><span class=\"mw-headline\" id=\"Иск_EFF\">Иск EFF</span><span class=\"mw-editsection\"><span class=\"mw-editsection-bracket\">[</span><a class=\"mw-editsection-visualeditor\" href=\"/w/index.php?title=%D0%9A%D0%BE%D0%BC%D0%BD%D0%B0%D1%82%D0%B0_641A&amp;veaction=edit&amp;section=2\" title=\"Редактировать раздел «Иск EFF»\">править</a><span class=\"mw-editsection-divider\"> | </span><a href=\"/w/index.php?title=%D0%9A%D0%BE%D0%BC%D0%BD%D0%B0%D1%82%D0%B0_641A&amp;action=edit&amp;section=2\" title=\"Редактировать раздел «Иск EFF»\">править код</a><span class=\"mw-editsection-bracket\">]</span></span></h2>,\n",
       " <h2><span id=\".D0.A1.D0.BC._.D1.82.D0.B0.D0.BA.D0.B6.D0.B5\"></span><span class=\"mw-headline\" id=\"См._также\">См. также</span><span class=\"mw-editsection\"><span class=\"mw-editsection-bracket\">[</span><a class=\"mw-editsection-visualeditor\" href=\"/w/index.php?title=%D0%9A%D0%BE%D0%BC%D0%BD%D0%B0%D1%82%D0%B0_641A&amp;veaction=edit&amp;section=3\" title=\"Редактировать раздел «См. также»\">править</a><span class=\"mw-editsection-divider\"> | </span><a href=\"/w/index.php?title=%D0%9A%D0%BE%D0%BC%D0%BD%D0%B0%D1%82%D0%B0_641A&amp;action=edit&amp;section=3\" title=\"Редактировать раздел «См. также»\">править код</a><span class=\"mw-editsection-bracket\">]</span></span></h2>,\n",
       " <h2><span id=\".D0.9F.D1.80.D0.B8.D0.BC.D0.B5.D1.87.D0.B0.D0.BD.D0.B8.D1.8F\"></span><span class=\"mw-headline\" id=\"Примечания\">Примечания</span><span class=\"mw-editsection\"><span class=\"mw-editsection-bracket\">[</span><a class=\"mw-editsection-visualeditor\" href=\"/w/index.php?title=%D0%9A%D0%BE%D0%BC%D0%BD%D0%B0%D1%82%D0%B0_641A&amp;veaction=edit&amp;section=4\" title=\"Редактировать раздел «Примечания»\">править</a><span class=\"mw-editsection-divider\"> | </span><a href=\"/w/index.php?title=%D0%9A%D0%BE%D0%BC%D0%BD%D0%B0%D1%82%D0%B0_641A&amp;action=edit&amp;section=4\" title=\"Редактировать раздел «Примечания»\">править код</a><span class=\"mw-editsection-bracket\">]</span></span></h2>,\n",
       " <h2><span id=\".D0.9B.D0.B8.D1.82.D0.B5.D1.80.D0.B0.D1.82.D1.83.D1.80.D0.B0\"></span><span class=\"mw-headline\" id=\"Литература\">Литература</span><span class=\"mw-editsection\"><span class=\"mw-editsection-bracket\">[</span><a class=\"mw-editsection-visualeditor\" href=\"/w/index.php?title=%D0%9A%D0%BE%D0%BC%D0%BD%D0%B0%D1%82%D0%B0_641A&amp;veaction=edit&amp;section=5\" title=\"Редактировать раздел «Литература»\">править</a><span class=\"mw-editsection-divider\"> | </span><a href=\"/w/index.php?title=%D0%9A%D0%BE%D0%BC%D0%BD%D0%B0%D1%82%D0%B0_641A&amp;action=edit&amp;section=5\" title=\"Редактировать раздел «Литература»\">править код</a><span class=\"mw-editsection-bracket\">]</span></span></h2>,\n",
       " <h2><span id=\".D0.A1.D1.81.D1.8B.D0.BB.D0.BA.D0.B8\"></span><span class=\"mw-headline\" id=\"Ссылки\">Ссылки</span><span class=\"mw-editsection\"><span class=\"mw-editsection-bracket\">[</span><a class=\"mw-editsection-visualeditor\" href=\"/w/index.php?title=%D0%9A%D0%BE%D0%BC%D0%BD%D0%B0%D1%82%D0%B0_641A&amp;veaction=edit&amp;section=6\" title=\"Редактировать раздел «Ссылки»\">править</a><span class=\"mw-editsection-divider\"> | </span><a href=\"/w/index.php?title=%D0%9A%D0%BE%D0%BC%D0%BD%D0%B0%D1%82%D0%B0_641A&amp;action=edit&amp;section=6\" title=\"Редактировать раздел «Ссылки»\">править код</a><span class=\"mw-editsection-bracket\">]</span></span></h2>,\n",
       " <h2>Навигация</h2>]"
      ]
     },
     "execution_count": 47,
     "metadata": {},
     "output_type": "execute_result"
    }
   ],
   "source": [
    "soup.select('h2')"
   ]
  },
  {
   "cell_type": "code",
   "execution_count": 48,
   "id": "f088df33",
   "metadata": {},
   "outputs": [
    {
     "name": "stdout",
     "output_type": "stream",
     "text": [
      "Описание\n",
      "Иск EFF\n",
      "См. также\n",
      "Примечания\n",
      "Литература\n",
      "Ссылки\n"
     ]
    }
   ],
   "source": [
    "for item in soup.select('.mw-headline'):\n",
    "    print(item.text)"
   ]
  },
  {
   "cell_type": "code",
   "execution_count": null,
   "id": "d42e3525",
   "metadata": {},
   "outputs": [],
   "source": []
  }
 ],
 "metadata": {
  "kernelspec": {
   "display_name": "Python 3 (ipykernel)",
   "language": "python",
   "name": "python3"
  },
  "language_info": {
   "codemirror_mode": {
    "name": "ipython",
    "version": 3
   },
   "file_extension": ".py",
   "mimetype": "text/x-python",
   "name": "python",
   "nbconvert_exporter": "python",
   "pygments_lexer": "ipython3",
   "version": "3.9.13"
  }
 },
 "nbformat": 4,
 "nbformat_minor": 5
}
