{
 "cells": [
  {
   "cell_type": "code",
   "execution_count": 1,
   "id": "10cafa1b",
   "metadata": {},
   "outputs": [],
   "source": [
    "def report_agent():\n",
    "    print('Report Agent')\n"
   ]
  },
  {
   "cell_type": "code",
   "execution_count": 2,
   "id": "820e1bb4",
   "metadata": {},
   "outputs": [
    {
     "name": "stdout",
     "output_type": "stream",
     "text": [
      "Report Agent\n"
     ]
    }
   ],
   "source": [
    "report_agent()"
   ]
  },
  {
   "cell_type": "code",
   "execution_count": 9,
   "id": "0ad57ae0",
   "metadata": {},
   "outputs": [],
   "source": [
    "def report(name='Jason'):\n",
    "    print('Reporting {}'.format(name))"
   ]
  },
  {
   "cell_type": "code",
   "execution_count": 10,
   "id": "9bff85be",
   "metadata": {},
   "outputs": [
    {
     "name": "stdout",
     "output_type": "stream",
     "text": [
      "Reporting Jason\n"
     ]
    }
   ],
   "source": [
    "report()"
   ]
  },
  {
   "cell_type": "code",
   "execution_count": 11,
   "id": "5196665c",
   "metadata": {},
   "outputs": [],
   "source": [
    "def add(n1,n2):\n",
    "    print(n1+n2)"
   ]
  },
  {
   "cell_type": "code",
   "execution_count": 12,
   "id": "2abebcb0",
   "metadata": {},
   "outputs": [
    {
     "name": "stdout",
     "output_type": "stream",
     "text": [
      "5\n"
     ]
    }
   ],
   "source": [
    "add(2,3)"
   ]
  },
  {
   "cell_type": "code",
   "execution_count": 13,
   "id": "c2cad06a",
   "metadata": {},
   "outputs": [
    {
     "name": "stdout",
     "output_type": "stream",
     "text": [
      "5\n"
     ]
    }
   ],
   "source": [
    "result = add(2,3)"
   ]
  },
  {
   "cell_type": "code",
   "execution_count": 14,
   "id": "2004066d",
   "metadata": {},
   "outputs": [],
   "source": [
    "result"
   ]
  },
  {
   "cell_type": "code",
   "execution_count": 15,
   "id": "12aa57fc",
   "metadata": {},
   "outputs": [
    {
     "data": {
      "text/plain": [
       "NoneType"
      ]
     },
     "execution_count": 15,
     "metadata": {},
     "output_type": "execute_result"
    }
   ],
   "source": [
    "type(result)"
   ]
  },
  {
   "cell_type": "code",
   "execution_count": 19,
   "id": "efb5b579",
   "metadata": {},
   "outputs": [],
   "source": [
    "def add(n1,n2):\n",
    "    print(\"Function ran well\")\n",
    "    return n1+n2"
   ]
  },
  {
   "cell_type": "raw",
   "id": "66c97e99",
   "metadata": {},
   "source": []
  },
  {
   "cell_type": "code",
   "execution_count": 20,
   "id": "9fcaccd0",
   "metadata": {},
   "outputs": [
    {
     "name": "stdout",
     "output_type": "stream",
     "text": [
      "Function ran well\n"
     ]
    }
   ],
   "source": [
    "result = add(2,4)"
   ]
  },
  {
   "cell_type": "code",
   "execution_count": 21,
   "id": "9dedec34",
   "metadata": {},
   "outputs": [
    {
     "data": {
      "text/plain": [
       "6"
      ]
     },
     "execution_count": 21,
     "metadata": {},
     "output_type": "execute_result"
    }
   ],
   "source": [
    "result"
   ]
  },
  {
   "cell_type": "code",
   "execution_count": 27,
   "id": "b6ea2be5",
   "metadata": {},
   "outputs": [],
   "source": [
    "def secret_check(mystring):\n",
    "    return 'secret' in mystring.lower()"
   ]
  },
  {
   "cell_type": "code",
   "execution_count": 28,
   "id": "b2ef5954",
   "metadata": {},
   "outputs": [
    {
     "data": {
      "text/plain": [
       "False"
      ]
     },
     "execution_count": 28,
     "metadata": {},
     "output_type": "execute_result"
    }
   ],
   "source": [
    "secret_check('this is a lie')"
   ]
  },
  {
   "cell_type": "code",
   "execution_count": 29,
   "id": "09b0e7c6",
   "metadata": {},
   "outputs": [
    {
     "data": {
      "text/plain": [
       "True"
      ]
     },
     "execution_count": 29,
     "metadata": {},
     "output_type": "execute_result"
    }
   ],
   "source": [
    "secret_check('this is a Secret')"
   ]
  },
  {
   "cell_type": "code",
   "execution_count": 30,
   "id": "46f6212a",
   "metadata": {},
   "outputs": [
    {
     "data": {
      "text/plain": [
       "True"
      ]
     },
     "execution_count": 30,
     "metadata": {},
     "output_type": "execute_result"
    }
   ],
   "source": [
    "secret_check('this is a secret')"
   ]
  },
  {
   "cell_type": "code",
   "execution_count": 43,
   "id": "d5e46622",
   "metadata": {},
   "outputs": [],
   "source": [
    "def code_maker(mystring):\n",
    "    '''\n",
    "    INPUT is a string\n",
    "    OUTPUT same string, but all vowels are converted to an x\n",
    "    '''\n",
    "    output = list(mystring)\n",
    "    \n",
    "    for i,letter in enumerate(mystring):\n",
    "        for vowel in ['a', 'e', 'i', 'o','u']:\n",
    "            if letter.lower() == vowel:\n",
    "                output[i] = 'x'\n",
    "            else:\n",
    "                pass\n",
    "            \n",
    "    output=''.join(result)\n",
    "    return output\n",
    "\n",
    "result = code_maker('hello') #hxlllx"
   ]
  },
  {
   "cell_type": "code",
   "execution_count": 44,
   "id": "124fa465",
   "metadata": {},
   "outputs": [
    {
     "data": {
      "text/plain": [
       "'hxllx'"
      ]
     },
     "execution_count": 44,
     "metadata": {},
     "output_type": "execute_result"
    }
   ],
   "source": [
    "result"
   ]
  },
  {
   "cell_type": "code",
   "execution_count": 45,
   "id": "e1a41205",
   "metadata": {},
   "outputs": [
    {
     "data": {
      "text/plain": [
       "'hxllx'"
      ]
     },
     "execution_count": 45,
     "metadata": {},
     "output_type": "execute_result"
    }
   ],
   "source": [
    "''.join(result)"
   ]
  },
  {
   "cell_type": "code",
   "execution_count": null,
   "id": "5f4469b9",
   "metadata": {},
   "outputs": [],
   "source": []
  }
 ],
 "metadata": {
  "kernelspec": {
   "display_name": "Python 3 (ipykernel)",
   "language": "python",
   "name": "python3"
  },
  "language_info": {
   "codemirror_mode": {
    "name": "ipython",
    "version": 3
   },
   "file_extension": ".py",
   "mimetype": "text/x-python",
   "name": "python",
   "nbconvert_exporter": "python",
   "pygments_lexer": "ipython3",
   "version": "3.9.13"
  }
 },
 "nbformat": 4,
 "nbformat_minor": 5
}
