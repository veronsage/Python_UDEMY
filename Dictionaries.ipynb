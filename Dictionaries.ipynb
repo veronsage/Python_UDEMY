{
 "cells": [
  {
   "cell_type": "code",
   "execution_count": 1,
   "id": "f68b7330",
   "metadata": {},
   "outputs": [],
   "source": [
    "d = {'key1': 'value1', 'key2':'value2'}"
   ]
  },
  {
   "cell_type": "code",
   "execution_count": 2,
   "id": "a816b5dc",
   "metadata": {},
   "outputs": [
    {
     "data": {
      "text/plain": [
       "'value1'"
      ]
     },
     "execution_count": 2,
     "metadata": {},
     "output_type": "execute_result"
    }
   ],
   "source": [
    "d['key1']"
   ]
  },
  {
   "cell_type": "code",
   "execution_count": 3,
   "id": "485af5d1",
   "metadata": {},
   "outputs": [
    {
     "ename": "NameError",
     "evalue": "name 'key2' is not defined",
     "output_type": "error",
     "traceback": [
      "\u001b[1;31m---------------------------------------------------------------------------\u001b[0m",
      "\u001b[1;31mNameError\u001b[0m                                 Traceback (most recent call last)",
      "\u001b[1;32m~\\AppData\\Local\\Temp\\ipykernel_15308\\2871326500.py\u001b[0m in \u001b[0;36m<module>\u001b[1;34m\u001b[0m\n\u001b[1;32m----> 1\u001b[1;33m \u001b[0md\u001b[0m\u001b[1;33m[\u001b[0m\u001b[0mkey2\u001b[0m\u001b[1;33m]\u001b[0m\u001b[1;33m\u001b[0m\u001b[1;33m\u001b[0m\u001b[0m\n\u001b[0m",
      "\u001b[1;31mNameError\u001b[0m: name 'key2' is not defined"
     ]
    }
   ],
   "source": [
    "d[key2]"
   ]
  },
  {
   "cell_type": "code",
   "execution_count": 4,
   "id": "9be299ac",
   "metadata": {},
   "outputs": [
    {
     "data": {
      "text/plain": [
       "'value2'"
      ]
     },
     "execution_count": 4,
     "metadata": {},
     "output_type": "execute_result"
    }
   ],
   "source": [
    "d['key2']"
   ]
  },
  {
   "cell_type": "code",
   "execution_count": 5,
   "id": "ab51841b",
   "metadata": {},
   "outputs": [],
   "source": [
    "d['new_key'] = 'new item'"
   ]
  },
  {
   "cell_type": "code",
   "execution_count": 6,
   "id": "cd7e1373",
   "metadata": {},
   "outputs": [
    {
     "data": {
      "text/plain": [
       "{'key1': 'value1', 'key2': 'value2', 'new_key': 'new item'}"
      ]
     },
     "execution_count": 6,
     "metadata": {},
     "output_type": "execute_result"
    }
   ],
   "source": [
    "d"
   ]
  },
  {
   "cell_type": "code",
   "execution_count": 7,
   "id": "74b2e8ff",
   "metadata": {},
   "outputs": [],
   "source": [
    "d = {'a':1, 'z':2}"
   ]
  },
  {
   "cell_type": "code",
   "execution_count": 8,
   "id": "9ef20619",
   "metadata": {},
   "outputs": [
    {
     "data": {
      "text/plain": [
       "{'a': 1, 'z': 2}"
      ]
     },
     "execution_count": 8,
     "metadata": {},
     "output_type": "execute_result"
    }
   ],
   "source": [
    "d"
   ]
  },
  {
   "cell_type": "code",
   "execution_count": 9,
   "id": "b2ee43d9",
   "metadata": {},
   "outputs": [],
   "source": [
    "d['new'] = 0"
   ]
  },
  {
   "cell_type": "code",
   "execution_count": 10,
   "id": "b64cbec9",
   "metadata": {},
   "outputs": [
    {
     "data": {
      "text/plain": [
       "{'a': 1, 'z': 2, 'new': 0}"
      ]
     },
     "execution_count": 10,
     "metadata": {},
     "output_type": "execute_result"
    }
   ],
   "source": [
    "d"
   ]
  },
  {
   "cell_type": "code",
   "execution_count": 11,
   "id": "a0483b1d",
   "metadata": {},
   "outputs": [],
   "source": [
    "d = {'k1':10, 'k2':'stringy','k3':[1,2,3], 'k4':{'inside':100}}"
   ]
  },
  {
   "cell_type": "code",
   "execution_count": 12,
   "id": "e72388ef",
   "metadata": {},
   "outputs": [
    {
     "data": {
      "text/plain": [
       "{'k1': 10, 'k2': 'stringy', 'k3': [1, 2, 3], 'k4': {'inside': 100}}"
      ]
     },
     "execution_count": 12,
     "metadata": {},
     "output_type": "execute_result"
    }
   ],
   "source": [
    "d"
   ]
  },
  {
   "cell_type": "code",
   "execution_count": 13,
   "id": "ee935416",
   "metadata": {},
   "outputs": [
    {
     "data": {
      "text/plain": [
       "10"
      ]
     },
     "execution_count": 13,
     "metadata": {},
     "output_type": "execute_result"
    }
   ],
   "source": [
    "d['k1']"
   ]
  },
  {
   "cell_type": "code",
   "execution_count": 14,
   "id": "7cd1ad62",
   "metadata": {},
   "outputs": [
    {
     "data": {
      "text/plain": [
       "'stringy'"
      ]
     },
     "execution_count": 14,
     "metadata": {},
     "output_type": "execute_result"
    }
   ],
   "source": [
    "d['k2']"
   ]
  },
  {
   "cell_type": "code",
   "execution_count": 15,
   "id": "76d00a7b",
   "metadata": {},
   "outputs": [
    {
     "data": {
      "text/plain": [
       "[1, 2, 3]"
      ]
     },
     "execution_count": 15,
     "metadata": {},
     "output_type": "execute_result"
    }
   ],
   "source": [
    "d['k3']"
   ]
  },
  {
   "cell_type": "code",
   "execution_count": 16,
   "id": "594fa252",
   "metadata": {},
   "outputs": [
    {
     "data": {
      "text/plain": [
       "{'inside': 100}"
      ]
     },
     "execution_count": 16,
     "metadata": {},
     "output_type": "execute_result"
    }
   ],
   "source": [
    "d['k4']"
   ]
  },
  {
   "cell_type": "code",
   "execution_count": 17,
   "id": "3300f817",
   "metadata": {},
   "outputs": [
    {
     "ename": "KeyError",
     "evalue": "'iside'",
     "output_type": "error",
     "traceback": [
      "\u001b[1;31m---------------------------------------------------------------------------\u001b[0m",
      "\u001b[1;31mKeyError\u001b[0m                                  Traceback (most recent call last)",
      "\u001b[1;32m~\\AppData\\Local\\Temp\\ipykernel_15308\\1764249022.py\u001b[0m in \u001b[0;36m<module>\u001b[1;34m\u001b[0m\n\u001b[1;32m----> 1\u001b[1;33m \u001b[0md\u001b[0m\u001b[1;33m[\u001b[0m\u001b[1;34m'k4'\u001b[0m\u001b[1;33m]\u001b[0m\u001b[1;33m[\u001b[0m\u001b[1;34m'iside'\u001b[0m\u001b[1;33m]\u001b[0m\u001b[1;33m\u001b[0m\u001b[1;33m\u001b[0m\u001b[0m\n\u001b[0m",
      "\u001b[1;31mKeyError\u001b[0m: 'iside'"
     ]
    }
   ],
   "source": [
    "d['k4']['iside']"
   ]
  },
  {
   "cell_type": "code",
   "execution_count": 18,
   "id": "cc7206d3",
   "metadata": {},
   "outputs": [
    {
     "data": {
      "text/plain": [
       "100"
      ]
     },
     "execution_count": 18,
     "metadata": {},
     "output_type": "execute_result"
    }
   ],
   "source": [
    "d['k4']['inside']"
   ]
  },
  {
   "cell_type": "code",
   "execution_count": 19,
   "id": "724c6ea8",
   "metadata": {},
   "outputs": [
    {
     "ename": "KeyError",
     "evalue": "'oops'",
     "output_type": "error",
     "traceback": [
      "\u001b[1;31m---------------------------------------------------------------------------\u001b[0m",
      "\u001b[1;31mKeyError\u001b[0m                                  Traceback (most recent call last)",
      "\u001b[1;32m~\\AppData\\Local\\Temp\\ipykernel_15308\\3717127709.py\u001b[0m in \u001b[0;36m<module>\u001b[1;34m\u001b[0m\n\u001b[1;32m----> 1\u001b[1;33m \u001b[0md\u001b[0m\u001b[1;33m[\u001b[0m\u001b[1;34m'oops'\u001b[0m\u001b[1;33m]\u001b[0m\u001b[1;33m\u001b[0m\u001b[1;33m\u001b[0m\u001b[0m\n\u001b[0m",
      "\u001b[1;31mKeyError\u001b[0m: 'oops'"
     ]
    }
   ],
   "source": [
    "d['oops']"
   ]
  },
  {
   "cell_type": "code",
   "execution_count": 20,
   "id": "d87344c7",
   "metadata": {},
   "outputs": [],
   "source": [
    "code_names = {\"obama\":'renegade',\n",
    "             'bush':'trailblazer',\n",
    "             'reagan':'rawhide',\n",
    "             'ford':'passkey'}"
   ]
  },
  {
   "cell_type": "code",
   "execution_count": 21,
   "id": "40c59c8a",
   "metadata": {},
   "outputs": [
    {
     "data": {
      "text/plain": [
       "'passkey'"
      ]
     },
     "execution_count": 21,
     "metadata": {},
     "output_type": "execute_result"
    }
   ],
   "source": [
    "code_names['ford']"
   ]
  },
  {
   "cell_type": "code",
   "execution_count": 22,
   "id": "947225fd",
   "metadata": {},
   "outputs": [],
   "source": [
    "pop = {'USA':323, 'Germany':83, 'India':1324}"
   ]
  },
  {
   "cell_type": "code",
   "execution_count": 23,
   "id": "37ec29d5",
   "metadata": {},
   "outputs": [
    {
     "data": {
      "text/plain": [
       "323"
      ]
     },
     "execution_count": 23,
     "metadata": {},
     "output_type": "execute_result"
    }
   ],
   "source": [
    "pop['USA']"
   ]
  },
  {
   "cell_type": "code",
   "execution_count": 24,
   "id": "ed57108e",
   "metadata": {},
   "outputs": [
    {
     "data": {
      "text/plain": [
       "dict_keys(['obama', 'bush', 'reagan', 'ford'])"
      ]
     },
     "execution_count": 24,
     "metadata": {},
     "output_type": "execute_result"
    }
   ],
   "source": [
    "code_names.keys()"
   ]
  },
  {
   "cell_type": "code",
   "execution_count": 25,
   "id": "a5dd75bd",
   "metadata": {},
   "outputs": [
    {
     "data": {
      "text/plain": [
       "dict_values(['renegade', 'trailblazer', 'rawhide', 'passkey'])"
      ]
     },
     "execution_count": 25,
     "metadata": {},
     "output_type": "execute_result"
    }
   ],
   "source": [
    "code_names.values()"
   ]
  },
  {
   "cell_type": "code",
   "execution_count": 26,
   "id": "f4022450",
   "metadata": {},
   "outputs": [
    {
     "data": {
      "text/plain": [
       "dict_items([('obama', 'renegade'), ('bush', 'trailblazer'), ('reagan', 'rawhide'), ('ford', 'passkey')])"
      ]
     },
     "execution_count": 26,
     "metadata": {},
     "output_type": "execute_result"
    }
   ],
   "source": [
    "code_names.items()"
   ]
  },
  {
   "cell_type": "code",
   "execution_count": null,
   "id": "4f34c979",
   "metadata": {},
   "outputs": [],
   "source": []
  }
 ],
 "metadata": {
  "kernelspec": {
   "display_name": "Python 3 (ipykernel)",
   "language": "python",
   "name": "python3"
  },
  "language_info": {
   "codemirror_mode": {
    "name": "ipython",
    "version": 3
   },
   "file_extension": ".py",
   "mimetype": "text/x-python",
   "name": "python",
   "nbconvert_exporter": "python",
   "pygments_lexer": "ipython3",
   "version": "3.9.13"
  }
 },
 "nbformat": 4,
 "nbformat_minor": 5
}
