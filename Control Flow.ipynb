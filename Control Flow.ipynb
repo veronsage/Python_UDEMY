{
 "cells": [
  {
   "cell_type": "code",
   "execution_count": 5,
   "id": "7632d825",
   "metadata": {},
   "outputs": [
    {
     "name": "stdout",
     "output_type": "stream",
     "text": [
      "condition met\n"
     ]
    }
   ],
   "source": [
    "if 1 < 2:\n",
    "    print('condition met')"
   ]
  },
  {
   "cell_type": "code",
   "execution_count": 8,
   "id": "ec7fb2c8",
   "metadata": {},
   "outputs": [],
   "source": [
    "cond = 1 < 2"
   ]
  },
  {
   "cell_type": "code",
   "execution_count": 9,
   "id": "18245600",
   "metadata": {},
   "outputs": [
    {
     "name": "stdout",
     "output_type": "stream",
     "text": [
      "cond met\n"
     ]
    }
   ],
   "source": [
    "if cond:\n",
    "    print('cond met')"
   ]
  },
  {
   "cell_type": "code",
   "execution_count": 12,
   "id": "c002ad3c",
   "metadata": {},
   "outputs": [
    {
     "name": "stdout",
     "output_type": "stream",
     "text": [
      "Last block happened to run\n"
     ]
    }
   ],
   "source": [
    "if 1 == 1000:\n",
    "    print(\"Condition met 1 == 1\")\n",
    "else:\n",
    "    print(\"Last block happened to run\")"
   ]
  },
  {
   "cell_type": "code",
   "execution_count": 14,
   "id": "e0ec105f",
   "metadata": {},
   "outputs": [
    {
     "name": "stdout",
     "output_type": "stream",
     "text": [
      "second condition true\n"
     ]
    }
   ],
   "source": [
    "if 2 == 0:\n",
    "    print('first condition true')\n",
    "elif 2 == 2:\n",
    "    print('second condition true')\n",
    "elif 2 == 2:\n",
    "    print('third condition true')\n",
    "else:\n",
    "    print('nothing above was true')"
   ]
  },
  {
   "cell_type": "code",
   "execution_count": 21,
   "id": "b4468f0e",
   "metadata": {},
   "outputs": [],
   "source": [
    "agent_code = 12345\n",
    "access = False"
   ]
  },
  {
   "cell_type": "code",
   "execution_count": 22,
   "id": "547e8c28",
   "metadata": {},
   "outputs": [
    {
     "name": "stdout",
     "output_type": "stream",
     "text": [
      "CODE RESET\n",
      "Call a supervisor\n"
     ]
    }
   ],
   "source": [
    "if agent_code == 12345:\n",
    "    print(\"CODE RESET\")\n",
    "    print(\"Call a supervisor\")\n",
    "elif agent_code == 12342:\n",
    "    print(\"Welcome agent 12342\")\n",
    "    access = True\n",
    "else:\n",
    "    print(\"Sorry no matching code\")"
   ]
  },
  {
   "cell_type": "code",
   "execution_count": 25,
   "id": "53c4c83a",
   "metadata": {},
   "outputs": [
    {
     "name": "stdout",
     "output_type": "stream",
     "text": [
      "Access denied\n"
     ]
    }
   ],
   "source": [
    "if access:\n",
    "    print(\"Access Granted\")\n",
    "else:\n",
    "    print(\"Access denied\")"
   ]
  },
  {
   "cell_type": "code",
   "execution_count": 24,
   "id": "7a4416fe",
   "metadata": {},
   "outputs": [
    {
     "data": {
      "text/plain": [
       "False"
      ]
     },
     "execution_count": 24,
     "metadata": {},
     "output_type": "execute_result"
    }
   ],
   "source": [
    "access"
   ]
  },
  {
   "cell_type": "code",
   "execution_count": null,
   "id": "5429b5a3",
   "metadata": {},
   "outputs": [],
   "source": []
  }
 ],
 "metadata": {
  "kernelspec": {
   "display_name": "Python 3 (ipykernel)",
   "language": "python",
   "name": "python3"
  },
  "language_info": {
   "codemirror_mode": {
    "name": "ipython",
    "version": 3
   },
   "file_extension": ".py",
   "mimetype": "text/x-python",
   "name": "python",
   "nbconvert_exporter": "python",
   "pygments_lexer": "ipython3",
   "version": "3.9.13"
  }
 },
 "nbformat": 4,
 "nbformat_minor": 5
}
