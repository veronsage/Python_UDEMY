{
 "cells": [
  {
   "cell_type": "code",
   "execution_count": 3,
   "id": "a7db2d0d",
   "metadata": {},
   "outputs": [
    {
     "name": "stdout",
     "output_type": "stream",
     "text": [
      "Please enter a number t\n",
      "Hey, make sure you supply a number!\n"
     ]
    }
   ],
   "source": [
    "try:\n",
    "    result = input(\"Please enter a number \")\n",
    "    1 + int(result)\n",
    "except TypeError:\n",
    "    print('You are not addind the correct things together')\n",
    "except ValueError:\n",
    "    print('Hey, make sure you supply a number!')\n",
    "else:\n",
    "    print('Everything ran smoothly')"
   ]
  },
  {
   "cell_type": "code",
   "execution_count": 5,
   "id": "948c2481",
   "metadata": {},
   "outputs": [
    {
     "name": "stdout",
     "output_type": "stream",
     "text": [
      "Please enter a number r\n",
      "Hey, an error occured\n"
     ]
    }
   ],
   "source": [
    "try:\n",
    "    result = input(\"Please enter a number \")\n",
    "    1 + int(result)\n",
    "except:\n",
    "    print(\"Hey, an error occured\")\n",
    "else:\n",
    "    print('Everything ran smoothly')"
   ]
  },
  {
   "cell_type": "code",
   "execution_count": 15,
   "id": "5fb2d342",
   "metadata": {},
   "outputs": [
    {
     "name": "stdout",
     "output_type": "stream",
     "text": [
      "FINALLY I ALWAYS RUN THIS BLOCK OF CODE\n"
     ]
    }
   ],
   "source": [
    "try:\n",
    "    f = open('testfile','w')\n",
    "    f.write('Test write this')\n",
    "    \n",
    "except:\n",
    "    print('Hey an error happened')\n",
    "finally:\n",
    "    print(\"FINALLY I ALWAYS RUN THIS BLOCK OF CODE\")"
   ]
  },
  {
   "cell_type": "code",
   "execution_count": null,
   "id": "25fce610",
   "metadata": {},
   "outputs": [],
   "source": []
  },
  {
   "cell_type": "code",
   "execution_count": null,
   "id": "5bff6745",
   "metadata": {},
   "outputs": [],
   "source": []
  }
 ],
 "metadata": {
  "kernelspec": {
   "display_name": "Python 3 (ipykernel)",
   "language": "python",
   "name": "python3"
  },
  "language_info": {
   "codemirror_mode": {
    "name": "ipython",
    "version": 3
   },
   "file_extension": ".py",
   "mimetype": "text/x-python",
   "name": "python",
   "nbconvert_exporter": "python",
   "pygments_lexer": "ipython3",
   "version": "3.9.13"
  }
 },
 "nbformat": 4,
 "nbformat_minor": 5
}
