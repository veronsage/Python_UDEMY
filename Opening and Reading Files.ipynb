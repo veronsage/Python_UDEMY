{
 "cells": [
  {
   "cell_type": "code",
   "execution_count": 1,
   "id": "b21cf387",
   "metadata": {},
   "outputs": [],
   "source": [
    "f = open('practice.txt','w+')"
   ]
  },
  {
   "cell_type": "code",
   "execution_count": 2,
   "id": "033213e5",
   "metadata": {},
   "outputs": [
    {
     "data": {
      "text/plain": [
       "9"
      ]
     },
     "execution_count": 2,
     "metadata": {},
     "output_type": "execute_result"
    }
   ],
   "source": [
    "f.write('test line')"
   ]
  },
  {
   "cell_type": "code",
   "execution_count": 3,
   "id": "33be1db5",
   "metadata": {},
   "outputs": [],
   "source": [
    "f.close()"
   ]
  },
  {
   "cell_type": "code",
   "execution_count": 4,
   "id": "d3567de8",
   "metadata": {},
   "outputs": [],
   "source": [
    "import os"
   ]
  },
  {
   "cell_type": "code",
   "execution_count": 5,
   "id": "e9f88b91",
   "metadata": {},
   "outputs": [
    {
     "data": {
      "text/plain": [
       "'C:\\\\Users\\\\user'"
      ]
     },
     "execution_count": 5,
     "metadata": {},
     "output_type": "execute_result"
    }
   ],
   "source": [
    "os.getcwd()"
   ]
  },
  {
   "cell_type": "code",
   "execution_count": 7,
   "id": "fc2ecaa7",
   "metadata": {},
   "outputs": [
    {
     "data": {
      "text/plain": [
       "['All Users',\n",
       " 'Default',\n",
       " 'Default User',\n",
       " 'desktop.ini',\n",
       " 'Public',\n",
       " 'user',\n",
       " 'Администратор',\n",
       " 'Все пользователи']"
      ]
     },
     "execution_count": 7,
     "metadata": {},
     "output_type": "execute_result"
    }
   ],
   "source": [
    "os.listdir('C:\\\\Users')"
   ]
  },
  {
   "cell_type": "code",
   "execution_count": 8,
   "id": "853b6ef2",
   "metadata": {},
   "outputs": [],
   "source": [
    "import shutil"
   ]
  },
  {
   "cell_type": "code",
   "execution_count": 10,
   "id": "b9dedd89",
   "metadata": {},
   "outputs": [
    {
     "data": {
      "text/plain": [
       "'C:\\\\Users\\\\Public\\\\practice.txt'"
      ]
     },
     "execution_count": 10,
     "metadata": {},
     "output_type": "execute_result"
    }
   ],
   "source": [
    "shutil.move('practice.txt','C:\\\\Users\\\\Public')"
   ]
  },
  {
   "cell_type": "code",
   "execution_count": 11,
   "id": "faefcb78",
   "metadata": {},
   "outputs": [
    {
     "data": {
      "text/plain": [
       "'C:\\\\Users\\\\user\\\\practice.txt'"
      ]
     },
     "execution_count": 11,
     "metadata": {},
     "output_type": "execute_result"
    }
   ],
   "source": [
    "shutil.move('C:\\\\Users\\\\Public\\\\practice.txt',os.getcwd())"
   ]
  },
  {
   "cell_type": "code",
   "execution_count": 16,
   "id": "ce20e320",
   "metadata": {},
   "outputs": [],
   "source": [
    "os.unlink('C:\\\\Users\\\\user\\\\practice.txt')"
   ]
  },
  {
   "cell_type": "code",
   "execution_count": 17,
   "id": "0b14b5b1",
   "metadata": {},
   "outputs": [],
   "source": [
    "import send2trash"
   ]
  },
  {
   "cell_type": "code",
   "execution_count": 18,
   "id": "49e2eead",
   "metadata": {},
   "outputs": [],
   "source": [
    "my_path = os.getcwd()"
   ]
  },
  {
   "cell_type": "code",
   "execution_count": null,
   "id": "a1cbf820",
   "metadata": {},
   "outputs": [],
   "source": [
    "for folder , sub_folders , files in os.walk(my_path):\n",
    "    \n",
    "    print('Currenly looking at folder: ')\n",
    "    print(folder)\n",
    "    print('Subfolders here are: ')\n",
    "    \n",
    "    for sub_folder in sub_folders:\n",
    "        print(sub_folder)\n",
    "        \n",
    "    print('\\n')\n",
    "    \n",
    "    for f in files:\n",
    "        pass\n",
    "    print('\\n')"
   ]
  },
  {
   "cell_type": "code",
   "execution_count": null,
   "id": "45ee1f68",
   "metadata": {},
   "outputs": [],
   "source": []
  }
 ],
 "metadata": {
  "kernelspec": {
   "display_name": "Python 3 (ipykernel)",
   "language": "python",
   "name": "python3"
  },
  "language_info": {
   "codemirror_mode": {
    "name": "ipython",
    "version": 3
   },
   "file_extension": ".py",
   "mimetype": "text/x-python",
   "name": "python",
   "nbconvert_exporter": "python",
   "pygments_lexer": "ipython3",
   "version": "3.9.13"
  }
 },
 "nbformat": 4,
 "nbformat_minor": 5
}
